{
 "cells": [
  {
   "cell_type": "code",
   "execution_count": 0,
   "metadata": {
    "application/vnd.databricks.v1+cell": {
     "cellMetadata": {
      "byteLimit": 2048000,
      "rowLimit": 10000
     },
     "inputWidgets": {},
     "nuid": "4cbdd230-95db-441b-abe0-700894e63728",
     "showTitle": false,
     "tableResultSettingsMap": {},
     "title": ""
    }
   },
   "outputs": [
    {
     "data": {
      "text/html": [
       "<style scoped>\n",
       "  .table-result-container {\n",
       "    max-height: 300px;\n",
       "    overflow: auto;\n",
       "  }\n",
       "  table, th, td {\n",
       "    border: 1px solid black;\n",
       "    border-collapse: collapse;\n",
       "  }\n",
       "  th, td {\n",
       "    padding: 5px;\n",
       "  }\n",
       "  th {\n",
       "    text-align: left;\n",
       "  }\n",
       "</style><div class='table-result-container'><table class='table-result'><thead style='background-color: white'><tr><th>week</th><th>topic</th><th>resolution_sla_violation</th></tr></thead><tbody><tr><td>2023-09-11T00:00:00.000Z</td><td>Other</td><td>1</td></tr><tr><td>2023-03-13T00:00:00.000Z</td><td>Purchasing and invoicing</td><td>2</td></tr><tr><td>2023-08-21T00:00:00.000Z</td><td>Product setup</td><td>6</td></tr><tr><td>2023-11-27T00:00:00.000Z</td><td>Feature request</td><td>5</td></tr><tr><td>2023-12-18T00:00:00.000Z</td><td>Pricing and licensing</td><td>4</td></tr><tr><td>2023-02-06T00:00:00.000Z</td><td>Product setup</td><td>3</td></tr><tr><td>2023-02-20T00:00:00.000Z</td><td>Purchasing and invoicing</td><td>1</td></tr><tr><td>2023-09-25T00:00:00.000Z</td><td>Pricing and licensing</td><td>5</td></tr><tr><td>2023-12-04T00:00:00.000Z</td><td>Feature request</td><td>3</td></tr><tr><td>2023-03-06T00:00:00.000Z</td><td>Bug report</td><td>1</td></tr><tr><td>2023-03-20T00:00:00.000Z</td><td>Feature request</td><td>2</td></tr><tr><td>2023-12-11T00:00:00.000Z</td><td>Pricing and licensing</td><td>1</td></tr><tr><td>2023-04-10T00:00:00.000Z</td><td>Purchasing and invoicing</td><td>1</td></tr><tr><td>2023-06-26T00:00:00.000Z</td><td>Pricing and Licensing</td><td>2</td></tr><tr><td>2023-08-28T00:00:00.000Z</td><td>Purchasing and invoicing</td><td>1</td></tr><tr><td>2023-07-17T00:00:00.000Z</td><td>Purchasing and invoicing</td><td>3</td></tr><tr><td>2023-11-06T00:00:00.000Z</td><td>Other</td><td>3</td></tr><tr><td>2023-09-04T00:00:00.000Z</td><td>Feature request</td><td>1</td></tr><tr><td>2023-11-20T00:00:00.000Z</td><td>Training request</td><td>1</td></tr><tr><td>2023-12-11T00:00:00.000Z</td><td>Product setup</td><td>6</td></tr><tr><td>2023-07-17T00:00:00.000Z</td><td>Feature request</td><td>1</td></tr><tr><td>2023-02-20T00:00:00.000Z</td><td>Training request</td><td>1</td></tr><tr><td>2023-08-07T00:00:00.000Z</td><td>Feature request</td><td>3</td></tr><tr><td>2023-05-01T00:00:00.000Z</td><td>Bug report</td><td>1</td></tr><tr><td>2023-09-18T00:00:00.000Z</td><td>Training request</td><td>1</td></tr><tr><td>2023-05-01T00:00:00.000Z</td><td>Pricing and licensing</td><td>5</td></tr><tr><td>2023-04-17T00:00:00.000Z</td><td>Pricing and licensing</td><td>2</td></tr><tr><td>2023-09-11T00:00:00.000Z</td><td>Purchasing and invoicing</td><td>2</td></tr><tr><td>2023-10-09T00:00:00.000Z</td><td>Bug report</td><td>2</td></tr><tr><td>2023-04-10T00:00:00.000Z</td><td>Pricing and Licensing</td><td>1</td></tr><tr><td>2023-10-02T00:00:00.000Z</td><td>Training request</td><td>2</td></tr><tr><td>2023-07-03T00:00:00.000Z</td><td>Other</td><td>3</td></tr><tr><td>2023-12-25T00:00:00.000Z</td><td>Feature request</td><td>3</td></tr><tr><td>2023-01-09T00:00:00.000Z</td><td>Pricing and licensing</td><td>3</td></tr><tr><td>2023-06-19T00:00:00.000Z</td><td>Training request</td><td>2</td></tr><tr><td>2023-12-18T00:00:00.000Z</td><td>Product setup</td><td>5</td></tr><tr><td>2023-01-23T00:00:00.000Z</td><td>Purchasing and invoicing</td><td>3</td></tr><tr><td>2023-05-08T00:00:00.000Z</td><td>Other</td><td>2</td></tr><tr><td>2023-07-31T00:00:00.000Z</td><td>Product setup</td><td>5</td></tr><tr><td>2023-04-03T00:00:00.000Z</td><td>Feature request</td><td>2</td></tr><tr><td>2023-11-06T00:00:00.000Z</td><td>Feature request</td><td>1</td></tr><tr><td>2023-04-03T00:00:00.000Z</td><td>Pricing and licensing</td><td>2</td></tr><tr><td>2023-08-21T00:00:00.000Z</td><td>Bug report</td><td>3</td></tr><tr><td>2023-02-27T00:00:00.000Z</td><td>Pricing and licensing</td><td>2</td></tr><tr><td>2023-04-24T00:00:00.000Z</td><td>Other</td><td>3</td></tr><tr><td>2023-08-07T00:00:00.000Z</td><td>Purchasing and invoicing</td><td>3</td></tr><tr><td>2023-02-13T00:00:00.000Z</td><td>Feature request</td><td>2</td></tr><tr><td>2023-05-22T00:00:00.000Z</td><td>Product setup</td><td>2</td></tr><tr><td>2023-09-25T00:00:00.000Z</td><td>Purchasing and invoicing</td><td>2</td></tr><tr><td>2023-06-12T00:00:00.000Z</td><td>Feature request</td><td>4</td></tr><tr><td>2023-11-27T00:00:00.000Z</td><td>Bug report</td><td>2</td></tr><tr><td>2023-04-10T00:00:00.000Z</td><td>Bug report</td><td>2</td></tr><tr><td>2023-05-22T00:00:00.000Z</td><td>Feature request</td><td>2</td></tr><tr><td>2023-06-19T00:00:00.000Z</td><td>Pricing and Licensing</td><td>2</td></tr><tr><td>2023-01-23T00:00:00.000Z</td><td>Pricing and licensing</td><td>3</td></tr><tr><td>2023-08-14T00:00:00.000Z</td><td>Other</td><td>2</td></tr><tr><td>2023-06-19T00:00:00.000Z</td><td>Bug report</td><td>1</td></tr><tr><td>2023-03-27T00:00:00.000Z</td><td>Bug report</td><td>1</td></tr><tr><td>2023-09-11T00:00:00.000Z</td><td>Product setup</td><td>1</td></tr><tr><td>2023-02-13T00:00:00.000Z</td><td>Pricing and licensing</td><td>4</td></tr><tr><td>2023-07-17T00:00:00.000Z</td><td>Pricing and licensing</td><td>1</td></tr><tr><td>2023-10-16T00:00:00.000Z</td><td>Pricing and licensing</td><td>5</td></tr><tr><td>2023-07-24T00:00:00.000Z</td><td>Product setup</td><td>2</td></tr><tr><td>2023-08-28T00:00:00.000Z</td><td>Pricing and licensing</td><td>4</td></tr><tr><td>2023-03-20T00:00:00.000Z</td><td>Purchasing and invoicing</td><td>1</td></tr><tr><td>2023-11-13T00:00:00.000Z</td><td>Pricing and licensing</td><td>7</td></tr><tr><td>2023-12-25T00:00:00.000Z</td><td>Bug report</td><td>2</td></tr><tr><td>2023-12-04T00:00:00.000Z</td><td>Pricing and licensing</td><td>4</td></tr><tr><td>2023-03-13T00:00:00.000Z</td><td>Product setup</td><td>6</td></tr><tr><td>2023-10-02T00:00:00.000Z</td><td>Purchasing and invoicing</td><td>2</td></tr><tr><td>2023-10-09T00:00:00.000Z</td><td>Pricing and licensing</td><td>4</td></tr><tr><td>2023-06-12T00:00:00.000Z</td><td>Training request</td><td>1</td></tr><tr><td>2023-10-30T00:00:00.000Z</td><td>Training request</td><td>1</td></tr><tr><td>2023-05-29T00:00:00.000Z</td><td>Feature request</td><td>2</td></tr><tr><td>2023-08-14T00:00:00.000Z</td><td>Bug report</td><td>2</td></tr><tr><td>2023-09-04T00:00:00.000Z</td><td>Product setup</td><td>6</td></tr><tr><td>2023-11-06T00:00:00.000Z</td><td>Bug report</td><td>1</td></tr><tr><td>2023-02-27T00:00:00.000Z</td><td>Bug report</td><td>1</td></tr><tr><td>2023-03-27T00:00:00.000Z</td><td>Pricing and licensing</td><td>3</td></tr><tr><td>2023-06-12T00:00:00.000Z</td><td>Purchasing and invoicing</td><td>3</td></tr><tr><td>2023-05-15T00:00:00.000Z</td><td>Bug report</td><td>2</td></tr><tr><td>2023-06-19T00:00:00.000Z</td><td>Purchasing and invoicing</td><td>2</td></tr><tr><td>2023-01-30T00:00:00.000Z</td><td>Pricing and licensing</td><td>2</td></tr><tr><td>2023-05-15T00:00:00.000Z</td><td>Purchasing and invoicing</td><td>2</td></tr><tr><td>2023-10-16T00:00:00.000Z</td><td>Other</td><td>3</td></tr><tr><td>2023-11-20T00:00:00.000Z</td><td>Pricing and licensing</td><td>3</td></tr><tr><td>2023-04-24T00:00:00.000Z</td><td>Purchasing and invoicing</td><td>1</td></tr><tr><td>2023-11-06T00:00:00.000Z</td><td>Product setup</td><td>4</td></tr><tr><td>2023-07-03T00:00:00.000Z</td><td>Pricing and licensing</td><td>1</td></tr><tr><td>2023-08-21T00:00:00.000Z</td><td>Pricing and licensing</td><td>3</td></tr><tr><td>2023-06-19T00:00:00.000Z</td><td>Pricing and licensing</td><td>3</td></tr><tr><td>2023-04-24T00:00:00.000Z</td><td>Feature request</td><td>2</td></tr><tr><td>2023-07-10T00:00:00.000Z</td><td>Training request</td><td>3</td></tr><tr><td>2023-08-28T00:00:00.000Z</td><td>Product setup</td><td>5</td></tr><tr><td>2023-09-25T00:00:00.000Z</td><td>Pricing and Licensing</td><td>2</td></tr><tr><td>2023-03-06T00:00:00.000Z</td><td>Other</td><td>2</td></tr><tr><td>2023-11-13T00:00:00.000Z</td><td>Feature request</td><td>5</td></tr><tr><td>2023-02-20T00:00:00.000Z</td><td>Other</td><td>2</td></tr><tr><td>2023-08-28T00:00:00.000Z</td><td>Feature request</td><td>3</td></tr><tr><td>2023-02-13T00:00:00.000Z</td><td>Bug report</td><td>1</td></tr><tr><td>2023-02-13T00:00:00.000Z</td><td>Other</td><td>1</td></tr><tr><td>2023-01-09T00:00:00.000Z</td><td>Feature request</td><td>1</td></tr><tr><td>2023-07-03T00:00:00.000Z</td><td>Bug report</td><td>4</td></tr><tr><td>2023-07-24T00:00:00.000Z</td><td>Purchasing and invoicing</td><td>5</td></tr><tr><td>2023-11-27T00:00:00.000Z</td><td>Other</td><td>1</td></tr><tr><td>2023-11-27T00:00:00.000Z</td><td>Purchasing and invoicing</td><td>1</td></tr><tr><td>2023-10-30T00:00:00.000Z</td><td>Pricing and Licensing</td><td>1</td></tr><tr><td>2023-09-04T00:00:00.000Z</td><td>Other</td><td>3</td></tr><tr><td>2023-10-30T00:00:00.000Z</td><td>Product setup</td><td>4</td></tr><tr><td>2023-02-20T00:00:00.000Z</td><td>Product setup</td><td>2</td></tr><tr><td>2023-09-11T00:00:00.000Z</td><td>Pricing and licensing</td><td>4</td></tr><tr><td>2023-01-23T00:00:00.000Z</td><td>Feature request</td><td>2</td></tr><tr><td>2023-01-02T00:00:00.000Z</td><td>Bug report</td><td>2</td></tr><tr><td>2023-05-01T00:00:00.000Z</td><td>Purchasing and invoicing</td><td>2</td></tr><tr><td>2023-08-07T00:00:00.000Z</td><td>Bug report</td><td>4</td></tr><tr><td>2023-01-16T00:00:00.000Z</td><td>Other</td><td>2</td></tr><tr><td>2023-07-10T00:00:00.000Z</td><td>Pricing and licensing</td><td>4</td></tr><tr><td>2023-09-04T00:00:00.000Z</td><td>Bug report</td><td>1</td></tr><tr><td>2023-09-04T00:00:00.000Z</td><td>Pricing and licensing</td><td>1</td></tr><tr><td>2023-04-17T00:00:00.000Z</td><td>Product setup</td><td>2</td></tr><tr><td>2023-06-05T00:00:00.000Z</td><td>Bug report</td><td>1</td></tr><tr><td>2023-10-23T00:00:00.000Z</td><td>Other</td><td>1</td></tr><tr><td>2023-02-27T00:00:00.000Z</td><td>Other</td><td>1</td></tr><tr><td>2023-07-24T00:00:00.000Z</td><td>Feature request</td><td>3</td></tr><tr><td>2023-09-18T00:00:00.000Z</td><td>Product setup</td><td>4</td></tr><tr><td>2023-10-16T00:00:00.000Z</td><td>Purchasing and invoicing</td><td>2</td></tr><tr><td>2023-08-07T00:00:00.000Z</td><td>Other</td><td>2</td></tr><tr><td>2023-10-16T00:00:00.000Z</td><td>Feature request</td><td>1</td></tr><tr><td>2023-03-27T00:00:00.000Z</td><td>Feature request</td><td>3</td></tr><tr><td>2023-04-10T00:00:00.000Z</td><td>Pricing and licensing</td><td>3</td></tr><tr><td>2023-05-08T00:00:00.000Z</td><td>Purchasing and invoicing</td><td>1</td></tr><tr><td>2023-01-30T00:00:00.000Z</td><td>Pricing and Licensing</td><td>2</td></tr><tr><td>2023-06-26T00:00:00.000Z</td><td>Purchasing and invoicing</td><td>2</td></tr><tr><td>2023-04-10T00:00:00.000Z</td><td>Feature request</td><td>5</td></tr><tr><td>2023-12-11T00:00:00.000Z</td><td>Other</td><td>3</td></tr><tr><td>2023-09-25T00:00:00.000Z</td><td>Bug report</td><td>1</td></tr><tr><td>2023-11-06T00:00:00.000Z</td><td>Pricing and licensing</td><td>5</td></tr><tr><td>2023-03-27T00:00:00.000Z</td><td>Product setup</td><td>5</td></tr><tr><td>2023-02-06T00:00:00.000Z</td><td>Bug report</td><td>4</td></tr><tr><td>2023-02-13T00:00:00.000Z</td><td>Product setup</td><td>2</td></tr><tr><td>2023-06-05T00:00:00.000Z</td><td>Feature request</td><td>2</td></tr><tr><td>2023-12-11T00:00:00.000Z</td><td>Feature request</td><td>5</td></tr><tr><td>2023-12-11T00:00:00.000Z</td><td>Purchasing and invoicing</td><td>2</td></tr><tr><td>2023-12-18T00:00:00.000Z</td><td>Feature request</td><td>4</td></tr><tr><td>2023-11-13T00:00:00.000Z</td><td>Purchasing and invoicing</td><td>2</td></tr><tr><td>2023-04-17T00:00:00.000Z</td><td>Other</td><td>2</td></tr><tr><td>2023-07-17T00:00:00.000Z</td><td>Training request</td><td>1</td></tr><tr><td>2023-12-04T00:00:00.000Z</td><td>Purchasing and invoicing</td><td>4</td></tr><tr><td>2023-04-24T00:00:00.000Z</td><td>Training request</td><td>3</td></tr><tr><td>2023-07-24T00:00:00.000Z</td><td>Other</td><td>1</td></tr><tr><td>2023-06-19T00:00:00.000Z</td><td>Feature request</td><td>2</td></tr><tr><td>2023-10-30T00:00:00.000Z</td><td>Feature request</td><td>4</td></tr><tr><td>2023-07-10T00:00:00.000Z</td><td>Other</td><td>2</td></tr><tr><td>2023-11-20T00:00:00.000Z</td><td>Purchasing and invoicing</td><td>2</td></tr><tr><td>2023-01-23T00:00:00.000Z</td><td>Bug report</td><td>2</td></tr><tr><td>2023-06-05T00:00:00.000Z</td><td>Purchasing and invoicing</td><td>4</td></tr><tr><td>2023-10-09T00:00:00.000Z</td><td>Feature request</td><td>4</td></tr><tr><td>2023-12-04T00:00:00.000Z</td><td>Other</td><td>2</td></tr><tr><td>2023-02-13T00:00:00.000Z</td><td>Pricing and Licensing</td><td>2</td></tr><tr><td>2023-05-29T00:00:00.000Z</td><td>Pricing and licensing</td><td>3</td></tr><tr><td>2023-08-21T00:00:00.000Z</td><td>Training request</td><td>2</td></tr><tr><td>2023-07-31T00:00:00.000Z</td><td>Bug report</td><td>3</td></tr><tr><td>2023-05-15T00:00:00.000Z</td><td>Product setup</td><td>5</td></tr><tr><td>2023-05-01T00:00:00.000Z</td><td>Product setup</td><td>6</td></tr><tr><td>2023-08-07T00:00:00.000Z</td><td>Product setup</td><td>1</td></tr><tr><td>2023-01-16T00:00:00.000Z</td><td>Product setup</td><td>4</td></tr><tr><td>2023-08-21T00:00:00.000Z</td><td>Feature request</td><td>1</td></tr><tr><td>2023-08-14T00:00:00.000Z</td><td>Pricing and Licensing</td><td>3</td></tr><tr><td>2023-11-27T00:00:00.000Z</td><td>Pricing and licensing</td><td>6</td></tr><tr><td>2023-03-13T00:00:00.000Z</td><td>Other</td><td>2</td></tr><tr><td>2023-07-03T00:00:00.000Z</td><td>Product setup</td><td>3</td></tr><tr><td>2023-07-10T00:00:00.000Z</td><td>Purchasing and invoicing</td><td>2</td></tr><tr><td>2023-12-18T00:00:00.000Z</td><td>Bug report</td><td>1</td></tr><tr><td>2023-09-25T00:00:00.000Z</td><td>Product setup</td><td>3</td></tr><tr><td>2023-06-05T00:00:00.000Z</td><td>Product setup</td><td>4</td></tr><tr><td>2023-05-22T00:00:00.000Z</td><td>Pricing and licensing</td><td>4</td></tr><tr><td>2023-05-15T00:00:00.000Z</td><td>Pricing and licensing</td><td>2</td></tr><tr><td>2023-10-09T00:00:00.000Z</td><td>Product setup</td><td>4</td></tr><tr><td>2023-02-27T00:00:00.000Z</td><td>Pricing and Licensing</td><td>1</td></tr><tr><td>2023-10-30T00:00:00.000Z</td><td>Purchasing and invoicing</td><td>2</td></tr><tr><td>2023-08-28T00:00:00.000Z</td><td>Bug report</td><td>3</td></tr><tr><td>2023-08-07T00:00:00.000Z</td><td>Pricing and licensing</td><td>1</td></tr><tr><td>2023-01-02T00:00:00.000Z</td><td>Feature request</td><td>1</td></tr><tr><td>2023-11-27T00:00:00.000Z</td><td>Product setup</td><td>10</td></tr><tr><td>2023-04-03T00:00:00.000Z</td><td>Product setup</td><td>6</td></tr><tr><td>2023-10-23T00:00:00.000Z</td><td>Bug report</td><td>6</td></tr><tr><td>2023-06-26T00:00:00.000Z</td><td>Feature request</td><td>4</td></tr><tr><td>2023-02-27T00:00:00.000Z</td><td>Product setup</td><td>1</td></tr><tr><td>2023-05-22T00:00:00.000Z</td><td>Purchasing and invoicing</td><td>1</td></tr><tr><td>2023-06-12T00:00:00.000Z</td><td>Product setup</td><td>2</td></tr><tr><td>2023-02-06T00:00:00.000Z</td><td>Feature request</td><td>2</td></tr><tr><td>2023-05-22T00:00:00.000Z</td><td>Bug report</td><td>3</td></tr><tr><td>2023-06-05T00:00:00.000Z</td><td>Pricing and Licensing</td><td>3</td></tr><tr><td>2023-12-04T00:00:00.000Z</td><td>Product setup</td><td>5</td></tr><tr><td>2023-07-24T00:00:00.000Z</td><td>Pricing and licensing</td><td>3</td></tr><tr><td>2023-03-06T00:00:00.000Z</td><td>Purchasing and invoicing</td><td>1</td></tr><tr><td>2023-07-31T00:00:00.000Z</td><td>Purchasing and invoicing</td><td>1</td></tr><tr><td>2023-01-09T00:00:00.000Z</td><td>Other</td><td>2</td></tr><tr><td>2023-10-02T00:00:00.000Z</td><td>Feature request</td><td>2</td></tr><tr><td>2023-06-19T00:00:00.000Z</td><td>Other</td><td>1</td></tr><tr><td>2023-10-30T00:00:00.000Z</td><td>Pricing and licensing</td><td>8</td></tr><tr><td>2023-03-06T00:00:00.000Z</td><td>Product setup</td><td>2</td></tr><tr><td>2023-03-20T00:00:00.000Z</td><td>Product setup</td><td>4</td></tr><tr><td>2023-11-20T00:00:00.000Z</td><td>Feature request</td><td>3</td></tr><tr><td>2023-03-06T00:00:00.000Z</td><td>Pricing and licensing</td><td>5</td></tr><tr><td>2023-08-28T00:00:00.000Z</td><td>Pricing and Licensing</td><td>2</td></tr><tr><td>2023-10-02T00:00:00.000Z</td><td>Pricing and licensing</td><td>2</td></tr><tr><td>2023-05-08T00:00:00.000Z</td><td>Pricing and licensing</td><td>4</td></tr><tr><td>2023-01-16T00:00:00.000Z</td><td>Feature request</td><td>2</td></tr><tr><td>2023-01-09T00:00:00.000Z</td><td>Product setup</td><td>3</td></tr><tr><td>2023-02-20T00:00:00.000Z</td><td>Feature request</td><td>1</td></tr><tr><td>2023-06-26T00:00:00.000Z</td><td>Other</td><td>2</td></tr><tr><td>2023-10-23T00:00:00.000Z</td><td>Pricing and licensing</td><td>1</td></tr><tr><td>2023-05-08T00:00:00.000Z</td><td>Training request</td><td>1</td></tr><tr><td>2023-07-17T00:00:00.000Z</td><td>Bug report</td><td>1</td></tr><tr><td>2023-09-18T00:00:00.000Z</td><td>Pricing and licensing</td><td>3</td></tr><tr><td>2023-08-14T00:00:00.000Z</td><td>Product setup</td><td>2</td></tr><tr><td>2023-05-08T00:00:00.000Z</td><td>Feature request</td><td>1</td></tr><tr><td>2023-06-12T00:00:00.000Z</td><td>Pricing and licensing</td><td>4</td></tr><tr><td>2023-04-17T00:00:00.000Z</td><td>Purchasing and invoicing</td><td>4</td></tr><tr><td>2023-02-20T00:00:00.000Z</td><td>Pricing and Licensing</td><td>2</td></tr><tr><td>2023-06-26T00:00:00.000Z</td><td>Bug report</td><td>1</td></tr><tr><td>2023-02-20T00:00:00.000Z</td><td>Bug report</td><td>1</td></tr><tr><td>2023-01-16T00:00:00.000Z</td><td>Bug report</td><td>1</td></tr><tr><td>2023-03-27T00:00:00.000Z</td><td>Purchasing and invoicing</td><td>2</td></tr><tr><td>2023-07-17T00:00:00.000Z</td><td>Product setup</td><td>11</td></tr><tr><td>2023-05-29T00:00:00.000Z</td><td>Product setup</td><td>3</td></tr><tr><td>2023-04-03T00:00:00.000Z</td><td>Training request</td><td>1</td></tr><tr><td>2023-04-24T00:00:00.000Z</td><td>Product setup</td><td>1</td></tr><tr><td>2023-12-18T00:00:00.000Z</td><td>Other</td><td>3</td></tr><tr><td>2023-05-08T00:00:00.000Z</td><td>Product setup</td><td>6</td></tr><tr><td>2023-09-18T00:00:00.000Z</td><td>Pricing and Licensing</td><td>3</td></tr><tr><td>2023-02-06T00:00:00.000Z</td><td>Pricing and Licensing</td><td>1</td></tr><tr><td>2023-09-18T00:00:00.000Z</td><td>Bug report</td><td>1</td></tr><tr><td>2023-11-20T00:00:00.000Z</td><td>Product setup</td><td>4</td></tr><tr><td>2023-01-23T00:00:00.000Z</td><td>Other</td><td>2</td></tr><tr><td>2023-03-27T00:00:00.000Z</td><td>Other</td><td>1</td></tr><tr><td>2023-07-17T00:00:00.000Z</td><td>Other</td><td>2</td></tr><tr><td>2023-02-06T00:00:00.000Z</td><td>Pricing and licensing</td><td>2</td></tr><tr><td>2023-06-19T00:00:00.000Z</td><td>Product setup</td><td>5</td></tr><tr><td>2023-10-30T00:00:00.000Z</td><td>Other</td><td>3</td></tr><tr><td>2023-01-02T00:00:00.000Z</td><td>Product setup</td><td>2</td></tr><tr><td>2023-02-06T00:00:00.000Z</td><td>Purchasing and invoicing</td><td>1</td></tr><tr><td>2023-11-13T00:00:00.000Z</td><td>Training request</td><td>2</td></tr><tr><td>2023-05-29T00:00:00.000Z</td><td>Purchasing and invoicing</td><td>3</td></tr><tr><td>2023-10-16T00:00:00.000Z</td><td>Bug report</td><td>3</td></tr><tr><td>2023-11-20T00:00:00.000Z</td><td>Bug report</td><td>2</td></tr><tr><td>2023-09-25T00:00:00.000Z</td><td>Feature request</td><td>1</td></tr><tr><td>2023-03-27T00:00:00.000Z</td><td>Training request</td><td>2</td></tr><tr><td>2023-10-02T00:00:00.000Z</td><td>Other</td><td>1</td></tr><tr><td>2023-08-21T00:00:00.000Z</td><td>Purchasing and invoicing</td><td>1</td></tr><tr><td>2023-10-16T00:00:00.000Z</td><td>Training request</td><td>2</td></tr><tr><td>2023-08-28T00:00:00.000Z</td><td>Other</td><td>1</td></tr><tr><td>2023-01-02T00:00:00.000Z</td><td>Training request</td><td>1</td></tr><tr><td>2023-06-26T00:00:00.000Z</td><td>Product setup</td><td>8</td></tr><tr><td>2023-05-01T00:00:00.000Z</td><td>Other</td><td>1</td></tr><tr><td>2023-10-23T00:00:00.000Z</td><td>Product setup</td><td>4</td></tr><tr><td>2023-08-14T00:00:00.000Z</td><td>Feature request</td><td>3</td></tr><tr><td>2023-07-31T00:00:00.000Z</td><td>Pricing and licensing</td><td>5</td></tr><tr><td>2023-03-06T00:00:00.000Z</td><td>Feature request</td><td>4</td></tr><tr><td>2023-11-13T00:00:00.000Z</td><td>Product setup</td><td>7</td></tr><tr><td>2023-07-03T00:00:00.000Z</td><td>Feature request</td><td>2</td></tr><tr><td>2023-12-04T00:00:00.000Z</td><td>Training request</td><td>1</td></tr><tr><td>2023-02-20T00:00:00.000Z</td><td>Pricing and licensing</td><td>3</td></tr><tr><td>2023-04-10T00:00:00.000Z</td><td>Other</td><td>1</td></tr><tr><td>2023-03-20T00:00:00.000Z</td><td>Other</td><td>2</td></tr><tr><td>2023-05-01T00:00:00.000Z</td><td>Feature request</td><td>4</td></tr><tr><td>2023-01-02T00:00:00.000Z</td><td>Other</td><td>1</td></tr><tr><td>2023-01-16T00:00:00.000Z</td><td>Pricing and licensing</td><td>3</td></tr><tr><td>2023-10-23T00:00:00.000Z</td><td>Feature request</td><td>4</td></tr><tr><td>2023-07-10T00:00:00.000Z</td><td>Product setup</td><td>7</td></tr><tr><td>2023-09-18T00:00:00.000Z</td><td>Other</td><td>1</td></tr><tr><td>2023-10-16T00:00:00.000Z</td><td>Product setup</td><td>7</td></tr><tr><td>2023-05-15T00:00:00.000Z</td><td>Feature request</td><td>3</td></tr><tr><td>2023-10-02T00:00:00.000Z</td><td>Product setup</td><td>7</td></tr><tr><td>2023-01-23T00:00:00.000Z</td><td>Product setup</td><td>1</td></tr><tr><td>2023-12-25T00:00:00.000Z</td><td>Product setup</td><td>2</td></tr><tr><td>2023-01-02T00:00:00.000Z</td><td>Pricing and licensing</td><td>6</td></tr><tr><td>2023-01-30T00:00:00.000Z</td><td>Feature request</td><td>3</td></tr><tr><td>2023-04-24T00:00:00.000Z</td><td>Pricing and licensing</td><td>2</td></tr><tr><td>2023-03-13T00:00:00.000Z</td><td>Feature request</td><td>2</td></tr><tr><td>2023-04-03T00:00:00.000Z</td><td>Pricing and Licensing</td><td>1</td></tr><tr><td>2023-09-04T00:00:00.000Z</td><td>Purchasing and invoicing</td><td>2</td></tr><tr><td>2023-08-14T00:00:00.000Z</td><td>Purchasing and invoicing</td><td>1</td></tr><tr><td>2023-02-06T00:00:00.000Z</td><td>Other</td><td>1</td></tr><tr><td>2023-04-17T00:00:00.000Z</td><td>Feature request</td><td>3</td></tr><tr><td>2023-02-27T00:00:00.000Z</td><td>Purchasing and invoicing</td><td>1</td></tr><tr><td>2023-11-20T00:00:00.000Z</td><td>Other</td><td>1</td></tr><tr><td>2023-10-09T00:00:00.000Z</td><td>Purchasing and invoicing</td><td>1</td></tr><tr><td>2023-07-31T00:00:00.000Z</td><td>Feature request</td><td>2</td></tr><tr><td>2023-05-29T00:00:00.000Z</td><td>Bug report</td><td>1</td></tr><tr><td>2023-04-10T00:00:00.000Z</td><td>Product setup</td><td>3</td></tr><tr><td>2023-08-14T00:00:00.000Z</td><td>Pricing and licensing</td><td>3</td></tr><tr><td>2023-09-11T00:00:00.000Z</td><td>Feature request</td><td>4</td></tr><tr><td>2023-02-27T00:00:00.000Z</td><td>Feature request</td><td>2</td></tr><tr><td>2023-01-16T00:00:00.000Z</td><td>Purchasing and invoicing</td><td>3</td></tr><tr><td>2023-01-30T00:00:00.000Z</td><td>Product setup</td><td>2</td></tr><tr><td>2023-07-10T00:00:00.000Z</td><td>Feature request</td><td>3</td></tr></tbody></table></div>"
      ]
     },
     "metadata": {
      "application/vnd.databricks.v1+output": {
       "addedWidgets": {},
       "aggData": [],
       "aggError": "",
       "aggOverflow": false,
       "aggSchema": [],
       "aggSeriesLimitReached": false,
       "aggType": "",
       "arguments": {},
       "columnCustomDisplayInfos": {},
       "data": [
        [
         "2023-09-11T00:00:00.000Z",
         "Other",
         1
        ],
        [
         "2023-03-13T00:00:00.000Z",
         "Purchasing and invoicing",
         2
        ],
        [
         "2023-08-21T00:00:00.000Z",
         "Product setup",
         6
        ],
        [
         "2023-11-27T00:00:00.000Z",
         "Feature request",
         5
        ],
        [
         "2023-12-18T00:00:00.000Z",
         "Pricing and licensing",
         4
        ],
        [
         "2023-02-06T00:00:00.000Z",
         "Product setup",
         3
        ],
        [
         "2023-02-20T00:00:00.000Z",
         "Purchasing and invoicing",
         1
        ],
        [
         "2023-09-25T00:00:00.000Z",
         "Pricing and licensing",
         5
        ],
        [
         "2023-12-04T00:00:00.000Z",
         "Feature request",
         3
        ],
        [
         "2023-03-06T00:00:00.000Z",
         "Bug report",
         1
        ],
        [
         "2023-03-20T00:00:00.000Z",
         "Feature request",
         2
        ],
        [
         "2023-12-11T00:00:00.000Z",
         "Pricing and licensing",
         1
        ],
        [
         "2023-04-10T00:00:00.000Z",
         "Purchasing and invoicing",
         1
        ],
        [
         "2023-06-26T00:00:00.000Z",
         "Pricing and Licensing",
         2
        ],
        [
         "2023-08-28T00:00:00.000Z",
         "Purchasing and invoicing",
         1
        ],
        [
         "2023-07-17T00:00:00.000Z",
         "Purchasing and invoicing",
         3
        ],
        [
         "2023-11-06T00:00:00.000Z",
         "Other",
         3
        ],
        [
         "2023-09-04T00:00:00.000Z",
         "Feature request",
         1
        ],
        [
         "2023-11-20T00:00:00.000Z",
         "Training request",
         1
        ],
        [
         "2023-12-11T00:00:00.000Z",
         "Product setup",
         6
        ],
        [
         "2023-07-17T00:00:00.000Z",
         "Feature request",
         1
        ],
        [
         "2023-02-20T00:00:00.000Z",
         "Training request",
         1
        ],
        [
         "2023-08-07T00:00:00.000Z",
         "Feature request",
         3
        ],
        [
         "2023-05-01T00:00:00.000Z",
         "Bug report",
         1
        ],
        [
         "2023-09-18T00:00:00.000Z",
         "Training request",
         1
        ],
        [
         "2023-05-01T00:00:00.000Z",
         "Pricing and licensing",
         5
        ],
        [
         "2023-04-17T00:00:00.000Z",
         "Pricing and licensing",
         2
        ],
        [
         "2023-09-11T00:00:00.000Z",
         "Purchasing and invoicing",
         2
        ],
        [
         "2023-10-09T00:00:00.000Z",
         "Bug report",
         2
        ],
        [
         "2023-04-10T00:00:00.000Z",
         "Pricing and Licensing",
         1
        ],
        [
         "2023-10-02T00:00:00.000Z",
         "Training request",
         2
        ],
        [
         "2023-07-03T00:00:00.000Z",
         "Other",
         3
        ],
        [
         "2023-12-25T00:00:00.000Z",
         "Feature request",
         3
        ],
        [
         "2023-01-09T00:00:00.000Z",
         "Pricing and licensing",
         3
        ],
        [
         "2023-06-19T00:00:00.000Z",
         "Training request",
         2
        ],
        [
         "2023-12-18T00:00:00.000Z",
         "Product setup",
         5
        ],
        [
         "2023-01-23T00:00:00.000Z",
         "Purchasing and invoicing",
         3
        ],
        [
         "2023-05-08T00:00:00.000Z",
         "Other",
         2
        ],
        [
         "2023-07-31T00:00:00.000Z",
         "Product setup",
         5
        ],
        [
         "2023-04-03T00:00:00.000Z",
         "Feature request",
         2
        ],
        [
         "2023-11-06T00:00:00.000Z",
         "Feature request",
         1
        ],
        [
         "2023-04-03T00:00:00.000Z",
         "Pricing and licensing",
         2
        ],
        [
         "2023-08-21T00:00:00.000Z",
         "Bug report",
         3
        ],
        [
         "2023-02-27T00:00:00.000Z",
         "Pricing and licensing",
         2
        ],
        [
         "2023-04-24T00:00:00.000Z",
         "Other",
         3
        ],
        [
         "2023-08-07T00:00:00.000Z",
         "Purchasing and invoicing",
         3
        ],
        [
         "2023-02-13T00:00:00.000Z",
         "Feature request",
         2
        ],
        [
         "2023-05-22T00:00:00.000Z",
         "Product setup",
         2
        ],
        [
         "2023-09-25T00:00:00.000Z",
         "Purchasing and invoicing",
         2
        ],
        [
         "2023-06-12T00:00:00.000Z",
         "Feature request",
         4
        ],
        [
         "2023-11-27T00:00:00.000Z",
         "Bug report",
         2
        ],
        [
         "2023-04-10T00:00:00.000Z",
         "Bug report",
         2
        ],
        [
         "2023-05-22T00:00:00.000Z",
         "Feature request",
         2
        ],
        [
         "2023-06-19T00:00:00.000Z",
         "Pricing and Licensing",
         2
        ],
        [
         "2023-01-23T00:00:00.000Z",
         "Pricing and licensing",
         3
        ],
        [
         "2023-08-14T00:00:00.000Z",
         "Other",
         2
        ],
        [
         "2023-06-19T00:00:00.000Z",
         "Bug report",
         1
        ],
        [
         "2023-03-27T00:00:00.000Z",
         "Bug report",
         1
        ],
        [
         "2023-09-11T00:00:00.000Z",
         "Product setup",
         1
        ],
        [
         "2023-02-13T00:00:00.000Z",
         "Pricing and licensing",
         4
        ],
        [
         "2023-07-17T00:00:00.000Z",
         "Pricing and licensing",
         1
        ],
        [
         "2023-10-16T00:00:00.000Z",
         "Pricing and licensing",
         5
        ],
        [
         "2023-07-24T00:00:00.000Z",
         "Product setup",
         2
        ],
        [
         "2023-08-28T00:00:00.000Z",
         "Pricing and licensing",
         4
        ],
        [
         "2023-03-20T00:00:00.000Z",
         "Purchasing and invoicing",
         1
        ],
        [
         "2023-11-13T00:00:00.000Z",
         "Pricing and licensing",
         7
        ],
        [
         "2023-12-25T00:00:00.000Z",
         "Bug report",
         2
        ],
        [
         "2023-12-04T00:00:00.000Z",
         "Pricing and licensing",
         4
        ],
        [
         "2023-03-13T00:00:00.000Z",
         "Product setup",
         6
        ],
        [
         "2023-10-02T00:00:00.000Z",
         "Purchasing and invoicing",
         2
        ],
        [
         "2023-10-09T00:00:00.000Z",
         "Pricing and licensing",
         4
        ],
        [
         "2023-06-12T00:00:00.000Z",
         "Training request",
         1
        ],
        [
         "2023-10-30T00:00:00.000Z",
         "Training request",
         1
        ],
        [
         "2023-05-29T00:00:00.000Z",
         "Feature request",
         2
        ],
        [
         "2023-08-14T00:00:00.000Z",
         "Bug report",
         2
        ],
        [
         "2023-09-04T00:00:00.000Z",
         "Product setup",
         6
        ],
        [
         "2023-11-06T00:00:00.000Z",
         "Bug report",
         1
        ],
        [
         "2023-02-27T00:00:00.000Z",
         "Bug report",
         1
        ],
        [
         "2023-03-27T00:00:00.000Z",
         "Pricing and licensing",
         3
        ],
        [
         "2023-06-12T00:00:00.000Z",
         "Purchasing and invoicing",
         3
        ],
        [
         "2023-05-15T00:00:00.000Z",
         "Bug report",
         2
        ],
        [
         "2023-06-19T00:00:00.000Z",
         "Purchasing and invoicing",
         2
        ],
        [
         "2023-01-30T00:00:00.000Z",
         "Pricing and licensing",
         2
        ],
        [
         "2023-05-15T00:00:00.000Z",
         "Purchasing and invoicing",
         2
        ],
        [
         "2023-10-16T00:00:00.000Z",
         "Other",
         3
        ],
        [
         "2023-11-20T00:00:00.000Z",
         "Pricing and licensing",
         3
        ],
        [
         "2023-04-24T00:00:00.000Z",
         "Purchasing and invoicing",
         1
        ],
        [
         "2023-11-06T00:00:00.000Z",
         "Product setup",
         4
        ],
        [
         "2023-07-03T00:00:00.000Z",
         "Pricing and licensing",
         1
        ],
        [
         "2023-08-21T00:00:00.000Z",
         "Pricing and licensing",
         3
        ],
        [
         "2023-06-19T00:00:00.000Z",
         "Pricing and licensing",
         3
        ],
        [
         "2023-04-24T00:00:00.000Z",
         "Feature request",
         2
        ],
        [
         "2023-07-10T00:00:00.000Z",
         "Training request",
         3
        ],
        [
         "2023-08-28T00:00:00.000Z",
         "Product setup",
         5
        ],
        [
         "2023-09-25T00:00:00.000Z",
         "Pricing and Licensing",
         2
        ],
        [
         "2023-03-06T00:00:00.000Z",
         "Other",
         2
        ],
        [
         "2023-11-13T00:00:00.000Z",
         "Feature request",
         5
        ],
        [
         "2023-02-20T00:00:00.000Z",
         "Other",
         2
        ],
        [
         "2023-08-28T00:00:00.000Z",
         "Feature request",
         3
        ],
        [
         "2023-02-13T00:00:00.000Z",
         "Bug report",
         1
        ],
        [
         "2023-02-13T00:00:00.000Z",
         "Other",
         1
        ],
        [
         "2023-01-09T00:00:00.000Z",
         "Feature request",
         1
        ],
        [
         "2023-07-03T00:00:00.000Z",
         "Bug report",
         4
        ],
        [
         "2023-07-24T00:00:00.000Z",
         "Purchasing and invoicing",
         5
        ],
        [
         "2023-11-27T00:00:00.000Z",
         "Other",
         1
        ],
        [
         "2023-11-27T00:00:00.000Z",
         "Purchasing and invoicing",
         1
        ],
        [
         "2023-10-30T00:00:00.000Z",
         "Pricing and Licensing",
         1
        ],
        [
         "2023-09-04T00:00:00.000Z",
         "Other",
         3
        ],
        [
         "2023-10-30T00:00:00.000Z",
         "Product setup",
         4
        ],
        [
         "2023-02-20T00:00:00.000Z",
         "Product setup",
         2
        ],
        [
         "2023-09-11T00:00:00.000Z",
         "Pricing and licensing",
         4
        ],
        [
         "2023-01-23T00:00:00.000Z",
         "Feature request",
         2
        ],
        [
         "2023-01-02T00:00:00.000Z",
         "Bug report",
         2
        ],
        [
         "2023-05-01T00:00:00.000Z",
         "Purchasing and invoicing",
         2
        ],
        [
         "2023-08-07T00:00:00.000Z",
         "Bug report",
         4
        ],
        [
         "2023-01-16T00:00:00.000Z",
         "Other",
         2
        ],
        [
         "2023-07-10T00:00:00.000Z",
         "Pricing and licensing",
         4
        ],
        [
         "2023-09-04T00:00:00.000Z",
         "Bug report",
         1
        ],
        [
         "2023-09-04T00:00:00.000Z",
         "Pricing and licensing",
         1
        ],
        [
         "2023-04-17T00:00:00.000Z",
         "Product setup",
         2
        ],
        [
         "2023-06-05T00:00:00.000Z",
         "Bug report",
         1
        ],
        [
         "2023-10-23T00:00:00.000Z",
         "Other",
         1
        ],
        [
         "2023-02-27T00:00:00.000Z",
         "Other",
         1
        ],
        [
         "2023-07-24T00:00:00.000Z",
         "Feature request",
         3
        ],
        [
         "2023-09-18T00:00:00.000Z",
         "Product setup",
         4
        ],
        [
         "2023-10-16T00:00:00.000Z",
         "Purchasing and invoicing",
         2
        ],
        [
         "2023-08-07T00:00:00.000Z",
         "Other",
         2
        ],
        [
         "2023-10-16T00:00:00.000Z",
         "Feature request",
         1
        ],
        [
         "2023-03-27T00:00:00.000Z",
         "Feature request",
         3
        ],
        [
         "2023-04-10T00:00:00.000Z",
         "Pricing and licensing",
         3
        ],
        [
         "2023-05-08T00:00:00.000Z",
         "Purchasing and invoicing",
         1
        ],
        [
         "2023-01-30T00:00:00.000Z",
         "Pricing and Licensing",
         2
        ],
        [
         "2023-06-26T00:00:00.000Z",
         "Purchasing and invoicing",
         2
        ],
        [
         "2023-04-10T00:00:00.000Z",
         "Feature request",
         5
        ],
        [
         "2023-12-11T00:00:00.000Z",
         "Other",
         3
        ],
        [
         "2023-09-25T00:00:00.000Z",
         "Bug report",
         1
        ],
        [
         "2023-11-06T00:00:00.000Z",
         "Pricing and licensing",
         5
        ],
        [
         "2023-03-27T00:00:00.000Z",
         "Product setup",
         5
        ],
        [
         "2023-02-06T00:00:00.000Z",
         "Bug report",
         4
        ],
        [
         "2023-02-13T00:00:00.000Z",
         "Product setup",
         2
        ],
        [
         "2023-06-05T00:00:00.000Z",
         "Feature request",
         2
        ],
        [
         "2023-12-11T00:00:00.000Z",
         "Feature request",
         5
        ],
        [
         "2023-12-11T00:00:00.000Z",
         "Purchasing and invoicing",
         2
        ],
        [
         "2023-12-18T00:00:00.000Z",
         "Feature request",
         4
        ],
        [
         "2023-11-13T00:00:00.000Z",
         "Purchasing and invoicing",
         2
        ],
        [
         "2023-04-17T00:00:00.000Z",
         "Other",
         2
        ],
        [
         "2023-07-17T00:00:00.000Z",
         "Training request",
         1
        ],
        [
         "2023-12-04T00:00:00.000Z",
         "Purchasing and invoicing",
         4
        ],
        [
         "2023-04-24T00:00:00.000Z",
         "Training request",
         3
        ],
        [
         "2023-07-24T00:00:00.000Z",
         "Other",
         1
        ],
        [
         "2023-06-19T00:00:00.000Z",
         "Feature request",
         2
        ],
        [
         "2023-10-30T00:00:00.000Z",
         "Feature request",
         4
        ],
        [
         "2023-07-10T00:00:00.000Z",
         "Other",
         2
        ],
        [
         "2023-11-20T00:00:00.000Z",
         "Purchasing and invoicing",
         2
        ],
        [
         "2023-01-23T00:00:00.000Z",
         "Bug report",
         2
        ],
        [
         "2023-06-05T00:00:00.000Z",
         "Purchasing and invoicing",
         4
        ],
        [
         "2023-10-09T00:00:00.000Z",
         "Feature request",
         4
        ],
        [
         "2023-12-04T00:00:00.000Z",
         "Other",
         2
        ],
        [
         "2023-02-13T00:00:00.000Z",
         "Pricing and Licensing",
         2
        ],
        [
         "2023-05-29T00:00:00.000Z",
         "Pricing and licensing",
         3
        ],
        [
         "2023-08-21T00:00:00.000Z",
         "Training request",
         2
        ],
        [
         "2023-07-31T00:00:00.000Z",
         "Bug report",
         3
        ],
        [
         "2023-05-15T00:00:00.000Z",
         "Product setup",
         5
        ],
        [
         "2023-05-01T00:00:00.000Z",
         "Product setup",
         6
        ],
        [
         "2023-08-07T00:00:00.000Z",
         "Product setup",
         1
        ],
        [
         "2023-01-16T00:00:00.000Z",
         "Product setup",
         4
        ],
        [
         "2023-08-21T00:00:00.000Z",
         "Feature request",
         1
        ],
        [
         "2023-08-14T00:00:00.000Z",
         "Pricing and Licensing",
         3
        ],
        [
         "2023-11-27T00:00:00.000Z",
         "Pricing and licensing",
         6
        ],
        [
         "2023-03-13T00:00:00.000Z",
         "Other",
         2
        ],
        [
         "2023-07-03T00:00:00.000Z",
         "Product setup",
         3
        ],
        [
         "2023-07-10T00:00:00.000Z",
         "Purchasing and invoicing",
         2
        ],
        [
         "2023-12-18T00:00:00.000Z",
         "Bug report",
         1
        ],
        [
         "2023-09-25T00:00:00.000Z",
         "Product setup",
         3
        ],
        [
         "2023-06-05T00:00:00.000Z",
         "Product setup",
         4
        ],
        [
         "2023-05-22T00:00:00.000Z",
         "Pricing and licensing",
         4
        ],
        [
         "2023-05-15T00:00:00.000Z",
         "Pricing and licensing",
         2
        ],
        [
         "2023-10-09T00:00:00.000Z",
         "Product setup",
         4
        ],
        [
         "2023-02-27T00:00:00.000Z",
         "Pricing and Licensing",
         1
        ],
        [
         "2023-10-30T00:00:00.000Z",
         "Purchasing and invoicing",
         2
        ],
        [
         "2023-08-28T00:00:00.000Z",
         "Bug report",
         3
        ],
        [
         "2023-08-07T00:00:00.000Z",
         "Pricing and licensing",
         1
        ],
        [
         "2023-01-02T00:00:00.000Z",
         "Feature request",
         1
        ],
        [
         "2023-11-27T00:00:00.000Z",
         "Product setup",
         10
        ],
        [
         "2023-04-03T00:00:00.000Z",
         "Product setup",
         6
        ],
        [
         "2023-10-23T00:00:00.000Z",
         "Bug report",
         6
        ],
        [
         "2023-06-26T00:00:00.000Z",
         "Feature request",
         4
        ],
        [
         "2023-02-27T00:00:00.000Z",
         "Product setup",
         1
        ],
        [
         "2023-05-22T00:00:00.000Z",
         "Purchasing and invoicing",
         1
        ],
        [
         "2023-06-12T00:00:00.000Z",
         "Product setup",
         2
        ],
        [
         "2023-02-06T00:00:00.000Z",
         "Feature request",
         2
        ],
        [
         "2023-05-22T00:00:00.000Z",
         "Bug report",
         3
        ],
        [
         "2023-06-05T00:00:00.000Z",
         "Pricing and Licensing",
         3
        ],
        [
         "2023-12-04T00:00:00.000Z",
         "Product setup",
         5
        ],
        [
         "2023-07-24T00:00:00.000Z",
         "Pricing and licensing",
         3
        ],
        [
         "2023-03-06T00:00:00.000Z",
         "Purchasing and invoicing",
         1
        ],
        [
         "2023-07-31T00:00:00.000Z",
         "Purchasing and invoicing",
         1
        ],
        [
         "2023-01-09T00:00:00.000Z",
         "Other",
         2
        ],
        [
         "2023-10-02T00:00:00.000Z",
         "Feature request",
         2
        ],
        [
         "2023-06-19T00:00:00.000Z",
         "Other",
         1
        ],
        [
         "2023-10-30T00:00:00.000Z",
         "Pricing and licensing",
         8
        ],
        [
         "2023-03-06T00:00:00.000Z",
         "Product setup",
         2
        ],
        [
         "2023-03-20T00:00:00.000Z",
         "Product setup",
         4
        ],
        [
         "2023-11-20T00:00:00.000Z",
         "Feature request",
         3
        ],
        [
         "2023-03-06T00:00:00.000Z",
         "Pricing and licensing",
         5
        ],
        [
         "2023-08-28T00:00:00.000Z",
         "Pricing and Licensing",
         2
        ],
        [
         "2023-10-02T00:00:00.000Z",
         "Pricing and licensing",
         2
        ],
        [
         "2023-05-08T00:00:00.000Z",
         "Pricing and licensing",
         4
        ],
        [
         "2023-01-16T00:00:00.000Z",
         "Feature request",
         2
        ],
        [
         "2023-01-09T00:00:00.000Z",
         "Product setup",
         3
        ],
        [
         "2023-02-20T00:00:00.000Z",
         "Feature request",
         1
        ],
        [
         "2023-06-26T00:00:00.000Z",
         "Other",
         2
        ],
        [
         "2023-10-23T00:00:00.000Z",
         "Pricing and licensing",
         1
        ],
        [
         "2023-05-08T00:00:00.000Z",
         "Training request",
         1
        ],
        [
         "2023-07-17T00:00:00.000Z",
         "Bug report",
         1
        ],
        [
         "2023-09-18T00:00:00.000Z",
         "Pricing and licensing",
         3
        ],
        [
         "2023-08-14T00:00:00.000Z",
         "Product setup",
         2
        ],
        [
         "2023-05-08T00:00:00.000Z",
         "Feature request",
         1
        ],
        [
         "2023-06-12T00:00:00.000Z",
         "Pricing and licensing",
         4
        ],
        [
         "2023-04-17T00:00:00.000Z",
         "Purchasing and invoicing",
         4
        ],
        [
         "2023-02-20T00:00:00.000Z",
         "Pricing and Licensing",
         2
        ],
        [
         "2023-06-26T00:00:00.000Z",
         "Bug report",
         1
        ],
        [
         "2023-02-20T00:00:00.000Z",
         "Bug report",
         1
        ],
        [
         "2023-01-16T00:00:00.000Z",
         "Bug report",
         1
        ],
        [
         "2023-03-27T00:00:00.000Z",
         "Purchasing and invoicing",
         2
        ],
        [
         "2023-07-17T00:00:00.000Z",
         "Product setup",
         11
        ],
        [
         "2023-05-29T00:00:00.000Z",
         "Product setup",
         3
        ],
        [
         "2023-04-03T00:00:00.000Z",
         "Training request",
         1
        ],
        [
         "2023-04-24T00:00:00.000Z",
         "Product setup",
         1
        ],
        [
         "2023-12-18T00:00:00.000Z",
         "Other",
         3
        ],
        [
         "2023-05-08T00:00:00.000Z",
         "Product setup",
         6
        ],
        [
         "2023-09-18T00:00:00.000Z",
         "Pricing and Licensing",
         3
        ],
        [
         "2023-02-06T00:00:00.000Z",
         "Pricing and Licensing",
         1
        ],
        [
         "2023-09-18T00:00:00.000Z",
         "Bug report",
         1
        ],
        [
         "2023-11-20T00:00:00.000Z",
         "Product setup",
         4
        ],
        [
         "2023-01-23T00:00:00.000Z",
         "Other",
         2
        ],
        [
         "2023-03-27T00:00:00.000Z",
         "Other",
         1
        ],
        [
         "2023-07-17T00:00:00.000Z",
         "Other",
         2
        ],
        [
         "2023-02-06T00:00:00.000Z",
         "Pricing and licensing",
         2
        ],
        [
         "2023-06-19T00:00:00.000Z",
         "Product setup",
         5
        ],
        [
         "2023-10-30T00:00:00.000Z",
         "Other",
         3
        ],
        [
         "2023-01-02T00:00:00.000Z",
         "Product setup",
         2
        ],
        [
         "2023-02-06T00:00:00.000Z",
         "Purchasing and invoicing",
         1
        ],
        [
         "2023-11-13T00:00:00.000Z",
         "Training request",
         2
        ],
        [
         "2023-05-29T00:00:00.000Z",
         "Purchasing and invoicing",
         3
        ],
        [
         "2023-10-16T00:00:00.000Z",
         "Bug report",
         3
        ],
        [
         "2023-11-20T00:00:00.000Z",
         "Bug report",
         2
        ],
        [
         "2023-09-25T00:00:00.000Z",
         "Feature request",
         1
        ],
        [
         "2023-03-27T00:00:00.000Z",
         "Training request",
         2
        ],
        [
         "2023-10-02T00:00:00.000Z",
         "Other",
         1
        ],
        [
         "2023-08-21T00:00:00.000Z",
         "Purchasing and invoicing",
         1
        ],
        [
         "2023-10-16T00:00:00.000Z",
         "Training request",
         2
        ],
        [
         "2023-08-28T00:00:00.000Z",
         "Other",
         1
        ],
        [
         "2023-01-02T00:00:00.000Z",
         "Training request",
         1
        ],
        [
         "2023-06-26T00:00:00.000Z",
         "Product setup",
         8
        ],
        [
         "2023-05-01T00:00:00.000Z",
         "Other",
         1
        ],
        [
         "2023-10-23T00:00:00.000Z",
         "Product setup",
         4
        ],
        [
         "2023-08-14T00:00:00.000Z",
         "Feature request",
         3
        ],
        [
         "2023-07-31T00:00:00.000Z",
         "Pricing and licensing",
         5
        ],
        [
         "2023-03-06T00:00:00.000Z",
         "Feature request",
         4
        ],
        [
         "2023-11-13T00:00:00.000Z",
         "Product setup",
         7
        ],
        [
         "2023-07-03T00:00:00.000Z",
         "Feature request",
         2
        ],
        [
         "2023-12-04T00:00:00.000Z",
         "Training request",
         1
        ],
        [
         "2023-02-20T00:00:00.000Z",
         "Pricing and licensing",
         3
        ],
        [
         "2023-04-10T00:00:00.000Z",
         "Other",
         1
        ],
        [
         "2023-03-20T00:00:00.000Z",
         "Other",
         2
        ],
        [
         "2023-05-01T00:00:00.000Z",
         "Feature request",
         4
        ],
        [
         "2023-01-02T00:00:00.000Z",
         "Other",
         1
        ],
        [
         "2023-01-16T00:00:00.000Z",
         "Pricing and licensing",
         3
        ],
        [
         "2023-10-23T00:00:00.000Z",
         "Feature request",
         4
        ],
        [
         "2023-07-10T00:00:00.000Z",
         "Product setup",
         7
        ],
        [
         "2023-09-18T00:00:00.000Z",
         "Other",
         1
        ],
        [
         "2023-10-16T00:00:00.000Z",
         "Product setup",
         7
        ],
        [
         "2023-05-15T00:00:00.000Z",
         "Feature request",
         3
        ],
        [
         "2023-10-02T00:00:00.000Z",
         "Product setup",
         7
        ],
        [
         "2023-01-23T00:00:00.000Z",
         "Product setup",
         1
        ],
        [
         "2023-12-25T00:00:00.000Z",
         "Product setup",
         2
        ],
        [
         "2023-01-02T00:00:00.000Z",
         "Pricing and licensing",
         6
        ],
        [
         "2023-01-30T00:00:00.000Z",
         "Feature request",
         3
        ],
        [
         "2023-04-24T00:00:00.000Z",
         "Pricing and licensing",
         2
        ],
        [
         "2023-03-13T00:00:00.000Z",
         "Feature request",
         2
        ],
        [
         "2023-04-03T00:00:00.000Z",
         "Pricing and Licensing",
         1
        ],
        [
         "2023-09-04T00:00:00.000Z",
         "Purchasing and invoicing",
         2
        ],
        [
         "2023-08-14T00:00:00.000Z",
         "Purchasing and invoicing",
         1
        ],
        [
         "2023-02-06T00:00:00.000Z",
         "Other",
         1
        ],
        [
         "2023-04-17T00:00:00.000Z",
         "Feature request",
         3
        ],
        [
         "2023-02-27T00:00:00.000Z",
         "Purchasing and invoicing",
         1
        ],
        [
         "2023-11-20T00:00:00.000Z",
         "Other",
         1
        ],
        [
         "2023-10-09T00:00:00.000Z",
         "Purchasing and invoicing",
         1
        ],
        [
         "2023-07-31T00:00:00.000Z",
         "Feature request",
         2
        ],
        [
         "2023-05-29T00:00:00.000Z",
         "Bug report",
         1
        ],
        [
         "2023-04-10T00:00:00.000Z",
         "Product setup",
         3
        ],
        [
         "2023-08-14T00:00:00.000Z",
         "Pricing and licensing",
         3
        ],
        [
         "2023-09-11T00:00:00.000Z",
         "Feature request",
         4
        ],
        [
         "2023-02-27T00:00:00.000Z",
         "Feature request",
         2
        ],
        [
         "2023-01-16T00:00:00.000Z",
         "Purchasing and invoicing",
         3
        ],
        [
         "2023-01-30T00:00:00.000Z",
         "Product setup",
         2
        ],
        [
         "2023-07-10T00:00:00.000Z",
         "Feature request",
         3
        ]
       ],
       "datasetInfos": [
        {
         "name": "_sqldf",
         "schema": {
          "fields": [
           {
            "metadata": {},
            "name": "week",
            "nullable": true,
            "type": "timestamp"
           },
           {
            "metadata": {},
            "name": "topic",
            "nullable": true,
            "type": "string"
           },
           {
            "metadata": {},
            "name": "resolution_sla_violation",
            "nullable": false,
            "type": "long"
           }
          ],
          "type": "struct"
         },
         "tableIdentifier": null,
         "typeStr": "pyspark.sql.connect.dataframe.DataFrame"
        }
       ],
       "dbfsResultPath": null,
       "isJsonSchema": true,
       "metadata": {
        "createTempViewForImplicitDf": true,
        "dataframeName": "_sqldf",
        "executionCount": 1
       },
       "overflow": false,
       "plotOptions": {
        "customPlotOptions": {},
        "displayType": "table",
        "pivotAggregation": null,
        "pivotColumns": null,
        "xColumns": null,
        "yColumns": null
       },
       "removedWidgets": [],
       "schema": [
        {
         "metadata": "{}",
         "name": "week",
         "type": "\"timestamp\""
        },
        {
         "metadata": "{}",
         "name": "topic",
         "type": "\"string\""
        },
        {
         "metadata": "{}",
         "name": "resolution_sla_violation",
         "type": "\"long\""
        }
       ],
       "type": "table"
      }
     },
     "output_type": "display_data"
    },
    {
     "data": {
      "text/plain": [
       "Databricks visualization. Run in Databricks to view."
      ]
     },
     "metadata": {
      "application/vnd.databricks.v1.subcommand+json": {
       "baseErrorDetails": null,
       "bindings": {},
       "collapsed": false,
       "command": "%sql WITH q AS (select date_trunc('week', `Created time`) as week, \ntopic,\ncount(1) as resolution_sla_violation\n\nfrom main.samples.technical_support_dataset\nwhere `SLA For Resolution` = 'SLA Violated'\ngroup by 1, 2) SELECT `week`,`topic`,SUM(`resolution_sla_violation`) `column_4983c18324` FROM q GROUP BY `topic`,`week`",
       "commandTitle": "Visualization 1",
       "commandType": "auto",
       "commandVersion": 0,
       "commentThread": [],
       "commentsVisible": false,
       "contentSha256Hex": null,
       "customPlotOptions": {
        "redashChart": [
         {
          "key": "type",
          "value": "CHART"
         },
         {
          "key": "options",
          "value": {
           "alignYAxesAtZero": true,
           "coefficient": 1,
           "columnConfigurationMap": {
            "x": {
             "column": "week",
             "id": "column_4983c18316"
            },
            "y": [
             {
              "column": "topic",
              "id": "column_4983c18322"
             }
            ],
            "zVal": {
             "column": "resolution_sla_violation",
             "id": "column_4983c18324",
             "transform": "SUM"
            }
           },
           "dateTimeFormat": "DD/MM/YY HH:mm",
           "direction": {
            "type": "counterclockwise"
           },
           "error_y": {
            "type": "data",
            "visible": true
           },
           "globalSeriesType": "heatmap",
           "isAggregationOn": true,
           "legend": {
            "traceorder": "normal"
           },
           "missingValuesAsZero": true,
           "numberFormat": "0,0.[00000]",
           "percentFormat": "0[.]00%",
           "series": {
            "error_y": {
             "type": "data",
             "visible": true
            },
            "stacking": null
           },
           "seriesOptions": {
            "column_4983c18318": {
             "name": "resolution_sla_violation",
             "type": "heatmap",
             "yAxis": 0
            },
            "column_4983c18322": {
             "type": "heatmap",
             "yAxis": 0
            }
           },
           "showDataLabels": false,
           "sizemode": "diameter",
           "sortX": true,
           "sortY": true,
           "swappedAxes": false,
           "textFormat": "",
           "useAggregationsUi": true,
           "valuesOptions": {},
           "version": 2,
           "xAxis": {
            "labels": {
             "enabled": true
            },
            "type": "-"
           },
           "yAxis": [
            {
             "title": {
              "text": "resolution sla violation"
             },
             "type": "-"
            },
            {
             "opposite": true,
             "type": "-"
            }
           ]
          }
         }
        ]
       },
       "datasetPreviewNameToCmdIdMap": {},
       "diffDeletes": [],
       "diffInserts": [],
       "displayType": "redashChart",
       "error": null,
       "errorDetails": null,
       "errorSummary": null,
       "errorTraceType": null,
       "finishTime": 0,
       "globalVars": {},
       "guid": "",
       "height": "auto",
       "hideCommandCode": false,
       "hideCommandResult": false,
       "iPythonMetadata": null,
       "inputWidgets": {},
       "isLockedInExamMode": false,
       "latestAssumeRoleInfo": null,
       "latestUser": "a user",
       "latestUserId": null,
       "listResultMetadata": null,
       "metadata": {},
       "nuid": "67444492-b39d-46df-8243-a50234b08c76",
       "origId": 0,
       "parentHierarchy": [],
       "pivotAggregation": null,
       "pivotColumns": null,
       "position": 2,
       "resultDbfsErrorMessage": null,
       "resultDbfsStatus": "INLINED_IN_TREE",
       "results": null,
       "showCommandTitle": false,
       "startTime": 0,
       "state": "input",
       "streamStates": {},
       "subcommandOptions": {
        "queryPlan": {
         "groups": [
          {
           "column": "week",
           "type": "column"
          },
          {
           "column": "topic",
           "type": "column"
          }
         ],
         "selects": [
          {
           "column": "week",
           "type": "column"
          },
          {
           "column": "topic",
           "type": "column"
          },
          {
           "alias": "column_4983c18324",
           "args": [
            {
             "column": "resolution_sla_violation",
             "type": "column"
            }
           ],
           "function": "SUM",
           "type": "function"
          }
         ]
        }
       },
       "submitTime": 0,
       "subtype": "tableResultSubCmd.visualization",
       "tableResultIndex": 0,
       "tableResultSettingsMap": {},
       "useConsistentColors": false,
       "version": "CommandV1",
       "width": "auto",
       "workflows": [],
       "xColumns": null,
       "yColumns": null
      }
     },
     "output_type": "display_data"
    }
   ],
   "source": [
    "select date_trunc('week', `Created time`) as week, \n",
    "topic,\n",
    "count(1) as resolution_sla_violation\n",
    "\n",
    "from main.samples.technical_support_dataset\n",
    "where `SLA For Resolution` = 'SLA Violated'\n",
    "group by 1, 2"
   ]
  },
  {
   "cell_type": "code",
   "execution_count": 0,
   "metadata": {
    "application/vnd.databricks.v1+cell": {
     "cellMetadata": {
      "byteLimit": 2048000,
      "rowLimit": 10000
     },
     "inputWidgets": {},
     "nuid": "f64a62c5-2ef4-488e-95a4-14a05ba5d43a",
     "showTitle": false,
     "tableResultSettingsMap": {},
     "title": ""
    }
   },
   "outputs": [
    {
     "data": {
      "text/html": [
       "<style scoped>\n",
       "  .table-result-container {\n",
       "    max-height: 300px;\n",
       "    overflow: auto;\n",
       "  }\n",
       "  table, th, td {\n",
       "    border: 1px solid black;\n",
       "    border-collapse: collapse;\n",
       "  }\n",
       "  th, td {\n",
       "    padding: 5px;\n",
       "  }\n",
       "  th {\n",
       "    text-align: left;\n",
       "  }\n",
       "</style><div class='table-result-container'><table class='table-result'><thead style='background-color: white'><tr><th>week</th><th>topic</th><th>first_response_sla_violation</th></tr></thead><tbody><tr><td>2023-09-11T00:00:00.000Z</td><td>Other</td><td>1</td></tr><tr><td>2023-08-21T00:00:00.000Z</td><td>Product setup</td><td>3</td></tr><tr><td>2023-11-27T00:00:00.000Z</td><td>Feature request</td><td>2</td></tr><tr><td>2023-12-18T00:00:00.000Z</td><td>Pricing and licensing</td><td>2</td></tr><tr><td>2023-02-06T00:00:00.000Z</td><td>Product setup</td><td>2</td></tr><tr><td>2023-02-20T00:00:00.000Z</td><td>Purchasing and invoicing</td><td>3</td></tr><tr><td>2023-09-25T00:00:00.000Z</td><td>Pricing and licensing</td><td>2</td></tr><tr><td>2023-12-04T00:00:00.000Z</td><td>Feature request</td><td>1</td></tr><tr><td>2023-06-26T00:00:00.000Z</td><td>Pricing and Licensing</td><td>1</td></tr><tr><td>2023-11-06T00:00:00.000Z</td><td>Other</td><td>1</td></tr><tr><td>2023-12-11T00:00:00.000Z</td><td>Product setup</td><td>2</td></tr><tr><td>2023-07-17T00:00:00.000Z</td><td>Feature request</td><td>2</td></tr><tr><td>2023-02-20T00:00:00.000Z</td><td>Training request</td><td>1</td></tr><tr><td>2023-08-07T00:00:00.000Z</td><td>Feature request</td><td>2</td></tr><tr><td>2023-04-17T00:00:00.000Z</td><td>Training request</td><td>1</td></tr><tr><td>2023-05-01T00:00:00.000Z</td><td>Bug report</td><td>1</td></tr><tr><td>2023-09-18T00:00:00.000Z</td><td>Training request</td><td>1</td></tr><tr><td>2023-05-01T00:00:00.000Z</td><td>Pricing and licensing</td><td>2</td></tr><tr><td>2023-04-10T00:00:00.000Z</td><td>Pricing and Licensing</td><td>1</td></tr><tr><td>2023-10-02T00:00:00.000Z</td><td>Training request</td><td>1</td></tr><tr><td>2023-07-03T00:00:00.000Z</td><td>Other</td><td>1</td></tr><tr><td>2023-12-18T00:00:00.000Z</td><td>Training request</td><td>1</td></tr><tr><td>2023-12-25T00:00:00.000Z</td><td>Feature request</td><td>1</td></tr><tr><td>2023-01-09T00:00:00.000Z</td><td>Pricing and licensing</td><td>1</td></tr><tr><td>2023-06-19T00:00:00.000Z</td><td>Training request</td><td>1</td></tr><tr><td>2023-12-18T00:00:00.000Z</td><td>Product setup</td><td>1</td></tr><tr><td>2023-05-08T00:00:00.000Z</td><td>Other</td><td>2</td></tr><tr><td>2023-07-31T00:00:00.000Z</td><td>Product setup</td><td>4</td></tr><tr><td>2023-07-31T00:00:00.000Z</td><td>Other</td><td>1</td></tr><tr><td>2023-11-06T00:00:00.000Z</td><td>Feature request</td><td>2</td></tr><tr><td>2023-04-03T00:00:00.000Z</td><td>Pricing and licensing</td><td>2</td></tr><tr><td>2023-08-21T00:00:00.000Z</td><td>Bug report</td><td>3</td></tr><tr><td>2023-02-27T00:00:00.000Z</td><td>Pricing and licensing</td><td>1</td></tr><tr><td>2023-04-24T00:00:00.000Z</td><td>Other</td><td>1</td></tr><tr><td>2023-08-07T00:00:00.000Z</td><td>Purchasing and invoicing</td><td>1</td></tr><tr><td>2023-02-13T00:00:00.000Z</td><td>Feature request</td><td>4</td></tr><tr><td>2023-05-22T00:00:00.000Z</td><td>Product setup</td><td>3</td></tr><tr><td>2023-09-25T00:00:00.000Z</td><td>Purchasing and invoicing</td><td>2</td></tr><tr><td>2023-06-12T00:00:00.000Z</td><td>Feature request</td><td>2</td></tr><tr><td>2023-04-10T00:00:00.000Z</td><td>Bug report</td><td>1</td></tr><tr><td>2023-05-22T00:00:00.000Z</td><td>Feature request</td><td>2</td></tr><tr><td>2023-06-19T00:00:00.000Z</td><td>Pricing and Licensing</td><td>1</td></tr><tr><td>2023-01-23T00:00:00.000Z</td><td>Pricing and licensing</td><td>3</td></tr><tr><td>2023-08-14T00:00:00.000Z</td><td>Other</td><td>1</td></tr><tr><td>2023-02-13T00:00:00.000Z</td><td>Pricing and licensing</td><td>5</td></tr><tr><td>2023-07-17T00:00:00.000Z</td><td>Pricing and licensing</td><td>2</td></tr><tr><td>2023-10-16T00:00:00.000Z</td><td>Pricing and licensing</td><td>1</td></tr><tr><td>2023-09-18T00:00:00.000Z</td><td>Feature request</td><td>2</td></tr><tr><td>2023-07-24T00:00:00.000Z</td><td>Product setup</td><td>1</td></tr><tr><td>2023-08-28T00:00:00.000Z</td><td>Pricing and licensing</td><td>1</td></tr><tr><td>2023-03-20T00:00:00.000Z</td><td>Purchasing and invoicing</td><td>1</td></tr><tr><td>2023-11-13T00:00:00.000Z</td><td>Pricing and licensing</td><td>2</td></tr><tr><td>2023-12-04T00:00:00.000Z</td><td>Pricing and licensing</td><td>3</td></tr><tr><td>2023-03-13T00:00:00.000Z</td><td>Product setup</td><td>6</td></tr><tr><td>2023-05-29T00:00:00.000Z</td><td>Feature request</td><td>1</td></tr><tr><td>2023-09-04T00:00:00.000Z</td><td>Product setup</td><td>1</td></tr><tr><td>2023-03-27T00:00:00.000Z</td><td>Pricing and licensing</td><td>1</td></tr><tr><td>2023-06-12T00:00:00.000Z</td><td>Purchasing and invoicing</td><td>1</td></tr><tr><td>2023-05-15T00:00:00.000Z</td><td>Bug report</td><td>1</td></tr><tr><td>2023-01-30T00:00:00.000Z</td><td>Pricing and licensing</td><td>2</td></tr><tr><td>2023-10-02T00:00:00.000Z</td><td>Bug report</td><td>1</td></tr><tr><td>2023-04-24T00:00:00.000Z</td><td>Purchasing and invoicing</td><td>1</td></tr><tr><td>2023-07-03T00:00:00.000Z</td><td>Pricing and licensing</td><td>1</td></tr><tr><td>2023-06-19T00:00:00.000Z</td><td>Pricing and licensing</td><td>1</td></tr><tr><td>2023-04-24T00:00:00.000Z</td><td>Feature request</td><td>3</td></tr><tr><td>2023-03-06T00:00:00.000Z</td><td>Other</td><td>1</td></tr><tr><td>2023-08-28T00:00:00.000Z</td><td>Feature request</td><td>1</td></tr><tr><td>2023-10-30T00:00:00.000Z</td><td>Bug report</td><td>1</td></tr><tr><td>2023-04-03T00:00:00.000Z</td><td>Other</td><td>1</td></tr><tr><td>2023-01-09T00:00:00.000Z</td><td>Feature request</td><td>1</td></tr><tr><td>2023-07-03T00:00:00.000Z</td><td>Bug report</td><td>1</td></tr><tr><td>2023-11-27T00:00:00.000Z</td><td>Purchasing and invoicing</td><td>1</td></tr><tr><td>2023-10-30T00:00:00.000Z</td><td>Product setup</td><td>1</td></tr><tr><td>2023-02-20T00:00:00.000Z</td><td>Product setup</td><td>1</td></tr><tr><td>2023-09-11T00:00:00.000Z</td><td>Pricing and licensing</td><td>1</td></tr><tr><td>2023-01-23T00:00:00.000Z</td><td>Feature request</td><td>2</td></tr><tr><td>2023-05-01T00:00:00.000Z</td><td>Purchasing and invoicing</td><td>1</td></tr><tr><td>2023-08-07T00:00:00.000Z</td><td>Bug report</td><td>1</td></tr><tr><td>2023-07-10T00:00:00.000Z</td><td>Pricing and licensing</td><td>1</td></tr><tr><td>2023-09-04T00:00:00.000Z</td><td>Bug report</td><td>1</td></tr><tr><td>2023-04-17T00:00:00.000Z</td><td>Product setup</td><td>2</td></tr><tr><td>2023-02-13T00:00:00.000Z</td><td>Purchasing and invoicing</td><td>3</td></tr><tr><td>2023-06-05T00:00:00.000Z</td><td>Bug report</td><td>1</td></tr><tr><td>2023-02-27T00:00:00.000Z</td><td>Other</td><td>1</td></tr><tr><td>2023-09-18T00:00:00.000Z</td><td>Product setup</td><td>1</td></tr><tr><td>2023-10-16T00:00:00.000Z</td><td>Purchasing and invoicing</td><td>2</td></tr><tr><td>2023-01-30T00:00:00.000Z</td><td>Purchasing and invoicing</td><td>1</td></tr><tr><td>2023-03-27T00:00:00.000Z</td><td>Feature request</td><td>2</td></tr><tr><td>2023-04-10T00:00:00.000Z</td><td>Pricing and licensing</td><td>1</td></tr><tr><td>2023-06-26T00:00:00.000Z</td><td>Purchasing and invoicing</td><td>1</td></tr><tr><td>2023-04-10T00:00:00.000Z</td><td>Feature request</td><td>2</td></tr><tr><td>2023-12-11T00:00:00.000Z</td><td>Other</td><td>1</td></tr><tr><td>2023-09-25T00:00:00.000Z</td><td>Bug report</td><td>1</td></tr><tr><td>2023-11-06T00:00:00.000Z</td><td>Pricing and licensing</td><td>1</td></tr><tr><td>2023-03-27T00:00:00.000Z</td><td>Product setup</td><td>1</td></tr><tr><td>2023-02-06T00:00:00.000Z</td><td>Bug report</td><td>1</td></tr><tr><td>2023-02-13T00:00:00.000Z</td><td>Product setup</td><td>2</td></tr><tr><td>2023-06-05T00:00:00.000Z</td><td>Feature request</td><td>1</td></tr><tr><td>2023-12-11T00:00:00.000Z</td><td>Feature request</td><td>3</td></tr><tr><td>2023-04-17T00:00:00.000Z</td><td>Other</td><td>1</td></tr><tr><td>2023-12-04T00:00:00.000Z</td><td>Purchasing and invoicing</td><td>1</td></tr><tr><td>2023-04-24T00:00:00.000Z</td><td>Training request</td><td>1</td></tr><tr><td>2023-06-19T00:00:00.000Z</td><td>Feature request</td><td>1</td></tr><tr><td>2023-01-23T00:00:00.000Z</td><td>Bug report</td><td>2</td></tr><tr><td>2023-06-05T00:00:00.000Z</td><td>Purchasing and invoicing</td><td>1</td></tr><tr><td>2023-10-09T00:00:00.000Z</td><td>Feature request</td><td>1</td></tr><tr><td>2023-12-04T00:00:00.000Z</td><td>Other</td><td>1</td></tr><tr><td>2023-02-13T00:00:00.000Z</td><td>Pricing and Licensing</td><td>1</td></tr><tr><td>2023-07-31T00:00:00.000Z</td><td>Bug report</td><td>1</td></tr><tr><td>2023-05-15T00:00:00.000Z</td><td>Product setup</td><td>4</td></tr><tr><td>2023-05-01T00:00:00.000Z</td><td>Product setup</td><td>3</td></tr><tr><td>2023-01-16T00:00:00.000Z</td><td>Product setup</td><td>4</td></tr><tr><td>2023-08-14T00:00:00.000Z</td><td>Pricing and Licensing</td><td>2</td></tr><tr><td>2023-11-27T00:00:00.000Z</td><td>Pricing and licensing</td><td>1</td></tr><tr><td>2023-03-13T00:00:00.000Z</td><td>Other</td><td>1</td></tr><tr><td>2023-05-15T00:00:00.000Z</td><td>Other</td><td>1</td></tr><tr><td>2023-07-03T00:00:00.000Z</td><td>Product setup</td><td>3</td></tr><tr><td>2023-06-05T00:00:00.000Z</td><td>Product setup</td><td>1</td></tr><tr><td>2023-10-09T00:00:00.000Z</td><td>Product setup</td><td>1</td></tr><tr><td>2023-01-02T00:00:00.000Z</td><td>Feature request</td><td>1</td></tr><tr><td>2023-11-27T00:00:00.000Z</td><td>Product setup</td><td>3</td></tr><tr><td>2023-04-03T00:00:00.000Z</td><td>Product setup</td><td>1</td></tr><tr><td>2023-10-23T00:00:00.000Z</td><td>Bug report</td><td>2</td></tr><tr><td>2023-04-03T00:00:00.000Z</td><td>Bug report</td><td>1</td></tr><tr><td>2023-06-26T00:00:00.000Z</td><td>Feature request</td><td>2</td></tr><tr><td>2023-02-27T00:00:00.000Z</td><td>Product setup</td><td>1</td></tr><tr><td>2023-05-22T00:00:00.000Z</td><td>Purchasing and invoicing</td><td>2</td></tr><tr><td>2023-06-12T00:00:00.000Z</td><td>Product setup</td><td>1</td></tr><tr><td>2023-04-17T00:00:00.000Z</td><td>Bug report</td><td>1</td></tr><tr><td>2023-12-04T00:00:00.000Z</td><td>Product setup</td><td>2</td></tr><tr><td>2023-07-24T00:00:00.000Z</td><td>Pricing and licensing</td><td>2</td></tr><tr><td>2023-03-06T00:00:00.000Z</td><td>Purchasing and invoicing</td><td>1</td></tr><tr><td>2023-10-02T00:00:00.000Z</td><td>Feature request</td><td>1</td></tr><tr><td>2023-06-19T00:00:00.000Z</td><td>Other</td><td>2</td></tr><tr><td>2023-10-30T00:00:00.000Z</td><td>Pricing and licensing</td><td>1</td></tr><tr><td>2023-03-06T00:00:00.000Z</td><td>Product setup</td><td>2</td></tr><tr><td>2023-03-20T00:00:00.000Z</td><td>Product setup</td><td>1</td></tr><tr><td>2023-11-20T00:00:00.000Z</td><td>Feature request</td><td>3</td></tr><tr><td>2023-03-06T00:00:00.000Z</td><td>Pricing and licensing</td><td>1</td></tr><tr><td>2023-10-02T00:00:00.000Z</td><td>Pricing and licensing</td><td>1</td></tr><tr><td>2023-11-13T00:00:00.000Z</td><td>Pricing and Licensing</td><td>1</td></tr><tr><td>2023-05-08T00:00:00.000Z</td><td>Pricing and licensing</td><td>1</td></tr><tr><td>2023-01-16T00:00:00.000Z</td><td>Feature request</td><td>3</td></tr><tr><td>2023-01-09T00:00:00.000Z</td><td>Product setup</td><td>2</td></tr><tr><td>2023-02-20T00:00:00.000Z</td><td>Feature request</td><td>2</td></tr><tr><td>2023-06-26T00:00:00.000Z</td><td>Other</td><td>2</td></tr><tr><td>2023-06-26T00:00:00.000Z</td><td>Pricing and licensing</td><td>1</td></tr><tr><td>2023-05-08T00:00:00.000Z</td><td>Training request</td><td>1</td></tr><tr><td>2023-09-18T00:00:00.000Z</td><td>Pricing and licensing</td><td>1</td></tr><tr><td>2023-05-08T00:00:00.000Z</td><td>Feature request</td><td>1</td></tr><tr><td>2023-06-12T00:00:00.000Z</td><td>Pricing and licensing</td><td>2</td></tr><tr><td>2023-04-17T00:00:00.000Z</td><td>Purchasing and invoicing</td><td>1</td></tr><tr><td>2023-02-20T00:00:00.000Z</td><td>Pricing and Licensing</td><td>1</td></tr><tr><td>2023-02-20T00:00:00.000Z</td><td>Bug report</td><td>1</td></tr><tr><td>2023-01-16T00:00:00.000Z</td><td>Bug report</td><td>1</td></tr><tr><td>2023-03-27T00:00:00.000Z</td><td>Purchasing and invoicing</td><td>1</td></tr><tr><td>2023-05-29T00:00:00.000Z</td><td>Product setup</td><td>1</td></tr><tr><td>2023-04-24T00:00:00.000Z</td><td>Product setup</td><td>1</td></tr><tr><td>2023-12-18T00:00:00.000Z</td><td>Other</td><td>2</td></tr><tr><td>2023-05-08T00:00:00.000Z</td><td>Product setup</td><td>2</td></tr><tr><td>2023-11-20T00:00:00.000Z</td><td>Product setup</td><td>1</td></tr><tr><td>2023-03-27T00:00:00.000Z</td><td>Other</td><td>1</td></tr><tr><td>2023-08-28T00:00:00.000Z</td><td>Training request</td><td>1</td></tr><tr><td>2023-02-06T00:00:00.000Z</td><td>Pricing and licensing</td><td>1</td></tr><tr><td>2023-06-19T00:00:00.000Z</td><td>Product setup</td><td>2</td></tr><tr><td>2023-10-30T00:00:00.000Z</td><td>Other</td><td>1</td></tr><tr><td>2023-06-05T00:00:00.000Z</td><td>Pricing and licensing</td><td>2</td></tr><tr><td>2023-01-02T00:00:00.000Z</td><td>Product setup</td><td>2</td></tr><tr><td>2023-02-06T00:00:00.000Z</td><td>Purchasing and invoicing</td><td>1</td></tr><tr><td>2023-03-13T00:00:00.000Z</td><td>Bug report</td><td>1</td></tr><tr><td>2023-05-29T00:00:00.000Z</td><td>Purchasing and invoicing</td><td>2</td></tr><tr><td>2023-03-27T00:00:00.000Z</td><td>Training request</td><td>1</td></tr><tr><td>2023-10-02T00:00:00.000Z</td><td>Other</td><td>1</td></tr><tr><td>2023-10-16T00:00:00.000Z</td><td>Training request</td><td>1</td></tr><tr><td>2023-08-28T00:00:00.000Z</td><td>Other</td><td>1</td></tr><tr><td>2023-06-26T00:00:00.000Z</td><td>Product setup</td><td>1</td></tr><tr><td>2023-03-06T00:00:00.000Z</td><td>Feature request</td><td>1</td></tr><tr><td>2023-11-13T00:00:00.000Z</td><td>Product setup</td><td>1</td></tr><tr><td>2023-02-20T00:00:00.000Z</td><td>Pricing and licensing</td><td>3</td></tr><tr><td>2023-01-09T00:00:00.000Z</td><td>Purchasing and invoicing</td><td>1</td></tr><tr><td>2023-03-20T00:00:00.000Z</td><td>Training request</td><td>1</td></tr><tr><td>2023-05-01T00:00:00.000Z</td><td>Feature request</td><td>2</td></tr><tr><td>2023-01-02T00:00:00.000Z</td><td>Other</td><td>1</td></tr><tr><td>2023-01-16T00:00:00.000Z</td><td>Pricing and licensing</td><td>1</td></tr><tr><td>2023-10-23T00:00:00.000Z</td><td>Feature request</td><td>1</td></tr><tr><td>2023-07-10T00:00:00.000Z</td><td>Product setup</td><td>2</td></tr><tr><td>2023-10-16T00:00:00.000Z</td><td>Product setup</td><td>3</td></tr><tr><td>2023-05-15T00:00:00.000Z</td><td>Feature request</td><td>1</td></tr><tr><td>2023-11-20T00:00:00.000Z</td><td>Pricing and Licensing</td><td>1</td></tr><tr><td>2023-01-23T00:00:00.000Z</td><td>Product setup</td><td>1</td></tr><tr><td>2023-12-25T00:00:00.000Z</td><td>Product setup</td><td>2</td></tr><tr><td>2023-01-02T00:00:00.000Z</td><td>Pricing and licensing</td><td>1</td></tr><tr><td>2023-01-30T00:00:00.000Z</td><td>Feature request</td><td>1</td></tr><tr><td>2023-03-13T00:00:00.000Z</td><td>Feature request</td><td>1</td></tr><tr><td>2023-09-04T00:00:00.000Z</td><td>Purchasing and invoicing</td><td>1</td></tr><tr><td>2023-02-06T00:00:00.000Z</td><td>Other</td><td>1</td></tr><tr><td>2023-04-17T00:00:00.000Z</td><td>Feature request</td><td>1</td></tr><tr><td>2023-02-27T00:00:00.000Z</td><td>Purchasing and invoicing</td><td>2</td></tr><tr><td>2023-05-29T00:00:00.000Z</td><td>Bug report</td><td>1</td></tr><tr><td>2023-04-10T00:00:00.000Z</td><td>Product setup</td><td>2</td></tr><tr><td>2023-08-14T00:00:00.000Z</td><td>Pricing and licensing</td><td>1</td></tr><tr><td>2023-09-11T00:00:00.000Z</td><td>Feature request</td><td>2</td></tr><tr><td>2023-02-27T00:00:00.000Z</td><td>Feature request</td><td>2</td></tr><tr><td>2023-07-24T00:00:00.000Z</td><td>Training request</td><td>1</td></tr><tr><td>2023-01-30T00:00:00.000Z</td><td>Product setup</td><td>1</td></tr><tr><td>2023-07-10T00:00:00.000Z</td><td>Feature request</td><td>3</td></tr></tbody></table></div>"
      ]
     },
     "metadata": {
      "application/vnd.databricks.v1+output": {
       "addedWidgets": {},
       "aggData": [],
       "aggError": "",
       "aggOverflow": false,
       "aggSchema": [],
       "aggSeriesLimitReached": false,
       "aggType": "",
       "arguments": {},
       "columnCustomDisplayInfos": {},
       "data": [
        [
         "2023-09-11T00:00:00.000Z",
         "Other",
         1
        ],
        [
         "2023-08-21T00:00:00.000Z",
         "Product setup",
         3
        ],
        [
         "2023-11-27T00:00:00.000Z",
         "Feature request",
         2
        ],
        [
         "2023-12-18T00:00:00.000Z",
         "Pricing and licensing",
         2
        ],
        [
         "2023-02-06T00:00:00.000Z",
         "Product setup",
         2
        ],
        [
         "2023-02-20T00:00:00.000Z",
         "Purchasing and invoicing",
         3
        ],
        [
         "2023-09-25T00:00:00.000Z",
         "Pricing and licensing",
         2
        ],
        [
         "2023-12-04T00:00:00.000Z",
         "Feature request",
         1
        ],
        [
         "2023-06-26T00:00:00.000Z",
         "Pricing and Licensing",
         1
        ],
        [
         "2023-11-06T00:00:00.000Z",
         "Other",
         1
        ],
        [
         "2023-12-11T00:00:00.000Z",
         "Product setup",
         2
        ],
        [
         "2023-07-17T00:00:00.000Z",
         "Feature request",
         2
        ],
        [
         "2023-02-20T00:00:00.000Z",
         "Training request",
         1
        ],
        [
         "2023-08-07T00:00:00.000Z",
         "Feature request",
         2
        ],
        [
         "2023-04-17T00:00:00.000Z",
         "Training request",
         1
        ],
        [
         "2023-05-01T00:00:00.000Z",
         "Bug report",
         1
        ],
        [
         "2023-09-18T00:00:00.000Z",
         "Training request",
         1
        ],
        [
         "2023-05-01T00:00:00.000Z",
         "Pricing and licensing",
         2
        ],
        [
         "2023-04-10T00:00:00.000Z",
         "Pricing and Licensing",
         1
        ],
        [
         "2023-10-02T00:00:00.000Z",
         "Training request",
         1
        ],
        [
         "2023-07-03T00:00:00.000Z",
         "Other",
         1
        ],
        [
         "2023-12-18T00:00:00.000Z",
         "Training request",
         1
        ],
        [
         "2023-12-25T00:00:00.000Z",
         "Feature request",
         1
        ],
        [
         "2023-01-09T00:00:00.000Z",
         "Pricing and licensing",
         1
        ],
        [
         "2023-06-19T00:00:00.000Z",
         "Training request",
         1
        ],
        [
         "2023-12-18T00:00:00.000Z",
         "Product setup",
         1
        ],
        [
         "2023-05-08T00:00:00.000Z",
         "Other",
         2
        ],
        [
         "2023-07-31T00:00:00.000Z",
         "Product setup",
         4
        ],
        [
         "2023-07-31T00:00:00.000Z",
         "Other",
         1
        ],
        [
         "2023-11-06T00:00:00.000Z",
         "Feature request",
         2
        ],
        [
         "2023-04-03T00:00:00.000Z",
         "Pricing and licensing",
         2
        ],
        [
         "2023-08-21T00:00:00.000Z",
         "Bug report",
         3
        ],
        [
         "2023-02-27T00:00:00.000Z",
         "Pricing and licensing",
         1
        ],
        [
         "2023-04-24T00:00:00.000Z",
         "Other",
         1
        ],
        [
         "2023-08-07T00:00:00.000Z",
         "Purchasing and invoicing",
         1
        ],
        [
         "2023-02-13T00:00:00.000Z",
         "Feature request",
         4
        ],
        [
         "2023-05-22T00:00:00.000Z",
         "Product setup",
         3
        ],
        [
         "2023-09-25T00:00:00.000Z",
         "Purchasing and invoicing",
         2
        ],
        [
         "2023-06-12T00:00:00.000Z",
         "Feature request",
         2
        ],
        [
         "2023-04-10T00:00:00.000Z",
         "Bug report",
         1
        ],
        [
         "2023-05-22T00:00:00.000Z",
         "Feature request",
         2
        ],
        [
         "2023-06-19T00:00:00.000Z",
         "Pricing and Licensing",
         1
        ],
        [
         "2023-01-23T00:00:00.000Z",
         "Pricing and licensing",
         3
        ],
        [
         "2023-08-14T00:00:00.000Z",
         "Other",
         1
        ],
        [
         "2023-02-13T00:00:00.000Z",
         "Pricing and licensing",
         5
        ],
        [
         "2023-07-17T00:00:00.000Z",
         "Pricing and licensing",
         2
        ],
        [
         "2023-10-16T00:00:00.000Z",
         "Pricing and licensing",
         1
        ],
        [
         "2023-09-18T00:00:00.000Z",
         "Feature request",
         2
        ],
        [
         "2023-07-24T00:00:00.000Z",
         "Product setup",
         1
        ],
        [
         "2023-08-28T00:00:00.000Z",
         "Pricing and licensing",
         1
        ],
        [
         "2023-03-20T00:00:00.000Z",
         "Purchasing and invoicing",
         1
        ],
        [
         "2023-11-13T00:00:00.000Z",
         "Pricing and licensing",
         2
        ],
        [
         "2023-12-04T00:00:00.000Z",
         "Pricing and licensing",
         3
        ],
        [
         "2023-03-13T00:00:00.000Z",
         "Product setup",
         6
        ],
        [
         "2023-05-29T00:00:00.000Z",
         "Feature request",
         1
        ],
        [
         "2023-09-04T00:00:00.000Z",
         "Product setup",
         1
        ],
        [
         "2023-03-27T00:00:00.000Z",
         "Pricing and licensing",
         1
        ],
        [
         "2023-06-12T00:00:00.000Z",
         "Purchasing and invoicing",
         1
        ],
        [
         "2023-05-15T00:00:00.000Z",
         "Bug report",
         1
        ],
        [
         "2023-01-30T00:00:00.000Z",
         "Pricing and licensing",
         2
        ],
        [
         "2023-10-02T00:00:00.000Z",
         "Bug report",
         1
        ],
        [
         "2023-04-24T00:00:00.000Z",
         "Purchasing and invoicing",
         1
        ],
        [
         "2023-07-03T00:00:00.000Z",
         "Pricing and licensing",
         1
        ],
        [
         "2023-06-19T00:00:00.000Z",
         "Pricing and licensing",
         1
        ],
        [
         "2023-04-24T00:00:00.000Z",
         "Feature request",
         3
        ],
        [
         "2023-03-06T00:00:00.000Z",
         "Other",
         1
        ],
        [
         "2023-08-28T00:00:00.000Z",
         "Feature request",
         1
        ],
        [
         "2023-10-30T00:00:00.000Z",
         "Bug report",
         1
        ],
        [
         "2023-04-03T00:00:00.000Z",
         "Other",
         1
        ],
        [
         "2023-01-09T00:00:00.000Z",
         "Feature request",
         1
        ],
        [
         "2023-07-03T00:00:00.000Z",
         "Bug report",
         1
        ],
        [
         "2023-11-27T00:00:00.000Z",
         "Purchasing and invoicing",
         1
        ],
        [
         "2023-10-30T00:00:00.000Z",
         "Product setup",
         1
        ],
        [
         "2023-02-20T00:00:00.000Z",
         "Product setup",
         1
        ],
        [
         "2023-09-11T00:00:00.000Z",
         "Pricing and licensing",
         1
        ],
        [
         "2023-01-23T00:00:00.000Z",
         "Feature request",
         2
        ],
        [
         "2023-05-01T00:00:00.000Z",
         "Purchasing and invoicing",
         1
        ],
        [
         "2023-08-07T00:00:00.000Z",
         "Bug report",
         1
        ],
        [
         "2023-07-10T00:00:00.000Z",
         "Pricing and licensing",
         1
        ],
        [
         "2023-09-04T00:00:00.000Z",
         "Bug report",
         1
        ],
        [
         "2023-04-17T00:00:00.000Z",
         "Product setup",
         2
        ],
        [
         "2023-02-13T00:00:00.000Z",
         "Purchasing and invoicing",
         3
        ],
        [
         "2023-06-05T00:00:00.000Z",
         "Bug report",
         1
        ],
        [
         "2023-02-27T00:00:00.000Z",
         "Other",
         1
        ],
        [
         "2023-09-18T00:00:00.000Z",
         "Product setup",
         1
        ],
        [
         "2023-10-16T00:00:00.000Z",
         "Purchasing and invoicing",
         2
        ],
        [
         "2023-01-30T00:00:00.000Z",
         "Purchasing and invoicing",
         1
        ],
        [
         "2023-03-27T00:00:00.000Z",
         "Feature request",
         2
        ],
        [
         "2023-04-10T00:00:00.000Z",
         "Pricing and licensing",
         1
        ],
        [
         "2023-06-26T00:00:00.000Z",
         "Purchasing and invoicing",
         1
        ],
        [
         "2023-04-10T00:00:00.000Z",
         "Feature request",
         2
        ],
        [
         "2023-12-11T00:00:00.000Z",
         "Other",
         1
        ],
        [
         "2023-09-25T00:00:00.000Z",
         "Bug report",
         1
        ],
        [
         "2023-11-06T00:00:00.000Z",
         "Pricing and licensing",
         1
        ],
        [
         "2023-03-27T00:00:00.000Z",
         "Product setup",
         1
        ],
        [
         "2023-02-06T00:00:00.000Z",
         "Bug report",
         1
        ],
        [
         "2023-02-13T00:00:00.000Z",
         "Product setup",
         2
        ],
        [
         "2023-06-05T00:00:00.000Z",
         "Feature request",
         1
        ],
        [
         "2023-12-11T00:00:00.000Z",
         "Feature request",
         3
        ],
        [
         "2023-04-17T00:00:00.000Z",
         "Other",
         1
        ],
        [
         "2023-12-04T00:00:00.000Z",
         "Purchasing and invoicing",
         1
        ],
        [
         "2023-04-24T00:00:00.000Z",
         "Training request",
         1
        ],
        [
         "2023-06-19T00:00:00.000Z",
         "Feature request",
         1
        ],
        [
         "2023-01-23T00:00:00.000Z",
         "Bug report",
         2
        ],
        [
         "2023-06-05T00:00:00.000Z",
         "Purchasing and invoicing",
         1
        ],
        [
         "2023-10-09T00:00:00.000Z",
         "Feature request",
         1
        ],
        [
         "2023-12-04T00:00:00.000Z",
         "Other",
         1
        ],
        [
         "2023-02-13T00:00:00.000Z",
         "Pricing and Licensing",
         1
        ],
        [
         "2023-07-31T00:00:00.000Z",
         "Bug report",
         1
        ],
        [
         "2023-05-15T00:00:00.000Z",
         "Product setup",
         4
        ],
        [
         "2023-05-01T00:00:00.000Z",
         "Product setup",
         3
        ],
        [
         "2023-01-16T00:00:00.000Z",
         "Product setup",
         4
        ],
        [
         "2023-08-14T00:00:00.000Z",
         "Pricing and Licensing",
         2
        ],
        [
         "2023-11-27T00:00:00.000Z",
         "Pricing and licensing",
         1
        ],
        [
         "2023-03-13T00:00:00.000Z",
         "Other",
         1
        ],
        [
         "2023-05-15T00:00:00.000Z",
         "Other",
         1
        ],
        [
         "2023-07-03T00:00:00.000Z",
         "Product setup",
         3
        ],
        [
         "2023-06-05T00:00:00.000Z",
         "Product setup",
         1
        ],
        [
         "2023-10-09T00:00:00.000Z",
         "Product setup",
         1
        ],
        [
         "2023-01-02T00:00:00.000Z",
         "Feature request",
         1
        ],
        [
         "2023-11-27T00:00:00.000Z",
         "Product setup",
         3
        ],
        [
         "2023-04-03T00:00:00.000Z",
         "Product setup",
         1
        ],
        [
         "2023-10-23T00:00:00.000Z",
         "Bug report",
         2
        ],
        [
         "2023-04-03T00:00:00.000Z",
         "Bug report",
         1
        ],
        [
         "2023-06-26T00:00:00.000Z",
         "Feature request",
         2
        ],
        [
         "2023-02-27T00:00:00.000Z",
         "Product setup",
         1
        ],
        [
         "2023-05-22T00:00:00.000Z",
         "Purchasing and invoicing",
         2
        ],
        [
         "2023-06-12T00:00:00.000Z",
         "Product setup",
         1
        ],
        [
         "2023-04-17T00:00:00.000Z",
         "Bug report",
         1
        ],
        [
         "2023-12-04T00:00:00.000Z",
         "Product setup",
         2
        ],
        [
         "2023-07-24T00:00:00.000Z",
         "Pricing and licensing",
         2
        ],
        [
         "2023-03-06T00:00:00.000Z",
         "Purchasing and invoicing",
         1
        ],
        [
         "2023-10-02T00:00:00.000Z",
         "Feature request",
         1
        ],
        [
         "2023-06-19T00:00:00.000Z",
         "Other",
         2
        ],
        [
         "2023-10-30T00:00:00.000Z",
         "Pricing and licensing",
         1
        ],
        [
         "2023-03-06T00:00:00.000Z",
         "Product setup",
         2
        ],
        [
         "2023-03-20T00:00:00.000Z",
         "Product setup",
         1
        ],
        [
         "2023-11-20T00:00:00.000Z",
         "Feature request",
         3
        ],
        [
         "2023-03-06T00:00:00.000Z",
         "Pricing and licensing",
         1
        ],
        [
         "2023-10-02T00:00:00.000Z",
         "Pricing and licensing",
         1
        ],
        [
         "2023-11-13T00:00:00.000Z",
         "Pricing and Licensing",
         1
        ],
        [
         "2023-05-08T00:00:00.000Z",
         "Pricing and licensing",
         1
        ],
        [
         "2023-01-16T00:00:00.000Z",
         "Feature request",
         3
        ],
        [
         "2023-01-09T00:00:00.000Z",
         "Product setup",
         2
        ],
        [
         "2023-02-20T00:00:00.000Z",
         "Feature request",
         2
        ],
        [
         "2023-06-26T00:00:00.000Z",
         "Other",
         2
        ],
        [
         "2023-06-26T00:00:00.000Z",
         "Pricing and licensing",
         1
        ],
        [
         "2023-05-08T00:00:00.000Z",
         "Training request",
         1
        ],
        [
         "2023-09-18T00:00:00.000Z",
         "Pricing and licensing",
         1
        ],
        [
         "2023-05-08T00:00:00.000Z",
         "Feature request",
         1
        ],
        [
         "2023-06-12T00:00:00.000Z",
         "Pricing and licensing",
         2
        ],
        [
         "2023-04-17T00:00:00.000Z",
         "Purchasing and invoicing",
         1
        ],
        [
         "2023-02-20T00:00:00.000Z",
         "Pricing and Licensing",
         1
        ],
        [
         "2023-02-20T00:00:00.000Z",
         "Bug report",
         1
        ],
        [
         "2023-01-16T00:00:00.000Z",
         "Bug report",
         1
        ],
        [
         "2023-03-27T00:00:00.000Z",
         "Purchasing and invoicing",
         1
        ],
        [
         "2023-05-29T00:00:00.000Z",
         "Product setup",
         1
        ],
        [
         "2023-04-24T00:00:00.000Z",
         "Product setup",
         1
        ],
        [
         "2023-12-18T00:00:00.000Z",
         "Other",
         2
        ],
        [
         "2023-05-08T00:00:00.000Z",
         "Product setup",
         2
        ],
        [
         "2023-11-20T00:00:00.000Z",
         "Product setup",
         1
        ],
        [
         "2023-03-27T00:00:00.000Z",
         "Other",
         1
        ],
        [
         "2023-08-28T00:00:00.000Z",
         "Training request",
         1
        ],
        [
         "2023-02-06T00:00:00.000Z",
         "Pricing and licensing",
         1
        ],
        [
         "2023-06-19T00:00:00.000Z",
         "Product setup",
         2
        ],
        [
         "2023-10-30T00:00:00.000Z",
         "Other",
         1
        ],
        [
         "2023-06-05T00:00:00.000Z",
         "Pricing and licensing",
         2
        ],
        [
         "2023-01-02T00:00:00.000Z",
         "Product setup",
         2
        ],
        [
         "2023-02-06T00:00:00.000Z",
         "Purchasing and invoicing",
         1
        ],
        [
         "2023-03-13T00:00:00.000Z",
         "Bug report",
         1
        ],
        [
         "2023-05-29T00:00:00.000Z",
         "Purchasing and invoicing",
         2
        ],
        [
         "2023-03-27T00:00:00.000Z",
         "Training request",
         1
        ],
        [
         "2023-10-02T00:00:00.000Z",
         "Other",
         1
        ],
        [
         "2023-10-16T00:00:00.000Z",
         "Training request",
         1
        ],
        [
         "2023-08-28T00:00:00.000Z",
         "Other",
         1
        ],
        [
         "2023-06-26T00:00:00.000Z",
         "Product setup",
         1
        ],
        [
         "2023-03-06T00:00:00.000Z",
         "Feature request",
         1
        ],
        [
         "2023-11-13T00:00:00.000Z",
         "Product setup",
         1
        ],
        [
         "2023-02-20T00:00:00.000Z",
         "Pricing and licensing",
         3
        ],
        [
         "2023-01-09T00:00:00.000Z",
         "Purchasing and invoicing",
         1
        ],
        [
         "2023-03-20T00:00:00.000Z",
         "Training request",
         1
        ],
        [
         "2023-05-01T00:00:00.000Z",
         "Feature request",
         2
        ],
        [
         "2023-01-02T00:00:00.000Z",
         "Other",
         1
        ],
        [
         "2023-01-16T00:00:00.000Z",
         "Pricing and licensing",
         1
        ],
        [
         "2023-10-23T00:00:00.000Z",
         "Feature request",
         1
        ],
        [
         "2023-07-10T00:00:00.000Z",
         "Product setup",
         2
        ],
        [
         "2023-10-16T00:00:00.000Z",
         "Product setup",
         3
        ],
        [
         "2023-05-15T00:00:00.000Z",
         "Feature request",
         1
        ],
        [
         "2023-11-20T00:00:00.000Z",
         "Pricing and Licensing",
         1
        ],
        [
         "2023-01-23T00:00:00.000Z",
         "Product setup",
         1
        ],
        [
         "2023-12-25T00:00:00.000Z",
         "Product setup",
         2
        ],
        [
         "2023-01-02T00:00:00.000Z",
         "Pricing and licensing",
         1
        ],
        [
         "2023-01-30T00:00:00.000Z",
         "Feature request",
         1
        ],
        [
         "2023-03-13T00:00:00.000Z",
         "Feature request",
         1
        ],
        [
         "2023-09-04T00:00:00.000Z",
         "Purchasing and invoicing",
         1
        ],
        [
         "2023-02-06T00:00:00.000Z",
         "Other",
         1
        ],
        [
         "2023-04-17T00:00:00.000Z",
         "Feature request",
         1
        ],
        [
         "2023-02-27T00:00:00.000Z",
         "Purchasing and invoicing",
         2
        ],
        [
         "2023-05-29T00:00:00.000Z",
         "Bug report",
         1
        ],
        [
         "2023-04-10T00:00:00.000Z",
         "Product setup",
         2
        ],
        [
         "2023-08-14T00:00:00.000Z",
         "Pricing and licensing",
         1
        ],
        [
         "2023-09-11T00:00:00.000Z",
         "Feature request",
         2
        ],
        [
         "2023-02-27T00:00:00.000Z",
         "Feature request",
         2
        ],
        [
         "2023-07-24T00:00:00.000Z",
         "Training request",
         1
        ],
        [
         "2023-01-30T00:00:00.000Z",
         "Product setup",
         1
        ],
        [
         "2023-07-10T00:00:00.000Z",
         "Feature request",
         3
        ]
       ],
       "datasetInfos": [
        {
         "name": "_sqldf",
         "schema": {
          "fields": [
           {
            "metadata": {},
            "name": "week",
            "nullable": true,
            "type": "timestamp"
           },
           {
            "metadata": {},
            "name": "topic",
            "nullable": true,
            "type": "string"
           },
           {
            "metadata": {},
            "name": "first_response_sla_violation",
            "nullable": false,
            "type": "long"
           }
          ],
          "type": "struct"
         },
         "tableIdentifier": null,
         "typeStr": "pyspark.sql.connect.dataframe.DataFrame"
        }
       ],
       "dbfsResultPath": null,
       "isJsonSchema": true,
       "metadata": {
        "createTempViewForImplicitDf": true,
        "dataframeName": "_sqldf",
        "executionCount": 3
       },
       "overflow": false,
       "plotOptions": {
        "customPlotOptions": {},
        "displayType": "table",
        "pivotAggregation": null,
        "pivotColumns": null,
        "xColumns": null,
        "yColumns": null
       },
       "removedWidgets": [],
       "schema": [
        {
         "metadata": "{}",
         "name": "week",
         "type": "\"timestamp\""
        },
        {
         "metadata": "{}",
         "name": "topic",
         "type": "\"string\""
        },
        {
         "metadata": "{}",
         "name": "first_response_sla_violation",
         "type": "\"long\""
        }
       ],
       "type": "table"
      }
     },
     "output_type": "display_data"
    },
    {
     "data": {
      "text/plain": [
       "Databricks visualization. Run in Databricks to view."
      ]
     },
     "metadata": {
      "application/vnd.databricks.v1.subcommand+json": {
       "baseErrorDetails": null,
       "bindings": {},
       "collapsed": false,
       "command": "%sql WITH q AS (select date_trunc('week', `Created time`) as week, \ntopic,\ncount(1) as first_response_sla_violation\n\nfrom main.samples.technical_support_dataset\nwhere `SLA For first response` = 'SLA Violated'\ngroup by 1, 2) SELECT `week`,`topic`,SUM(`first_response_sla_violation`) `column_4983c18335` FROM q GROUP BY `topic`,`week`",
       "commandTitle": "Visualization 1",
       "commandType": "auto",
       "commandVersion": 0,
       "commentThread": [],
       "commentsVisible": false,
       "contentSha256Hex": null,
       "customPlotOptions": {
        "redashChart": [
         {
          "key": "type",
          "value": "CHART"
         },
         {
          "key": "options",
          "value": {
           "alignYAxesAtZero": true,
           "coefficient": 1,
           "colorScheme": "Reds",
           "columnConfigurationMap": {
            "x": {
             "column": "week",
             "id": "column_4983c18327"
            },
            "y": [
             {
              "column": "topic",
              "id": "column_4983c18333"
             }
            ],
            "zVal": {
             "column": "first_response_sla_violation",
             "id": "column_4983c18335",
             "transform": "SUM"
            }
           },
           "dateTimeFormat": "DD/MM/YY HH:mm",
           "direction": {
            "type": "counterclockwise"
           },
           "error_y": {
            "type": "data",
            "visible": true
           },
           "globalSeriesType": "heatmap",
           "isAggregationOn": true,
           "legend": {
            "traceorder": "normal"
           },
           "missingValuesAsZero": true,
           "numberFormat": "0,0.[00000]",
           "percentFormat": "0[.]00%",
           "series": {
            "error_y": {
             "type": "data",
             "visible": true
            },
            "stacking": null
           },
           "seriesOptions": {
            "column_4983c18329": {
             "name": "first_response_sla_violation",
             "type": "heatmap",
             "yAxis": 0
            },
            "column_4983c18333": {
             "type": "heatmap",
             "yAxis": 0
            }
           },
           "showDataLabels": false,
           "sizemode": "diameter",
           "sortX": true,
           "sortY": true,
           "swappedAxes": false,
           "textFormat": "",
           "useAggregationsUi": true,
           "valuesOptions": {},
           "version": 2,
           "xAxis": {
            "labels": {
             "enabled": true
            },
            "type": "-"
           },
           "yAxis": [
            {
             "type": "-"
            },
            {
             "opposite": true,
             "type": "-"
            }
           ]
          }
         }
        ]
       },
       "datasetPreviewNameToCmdIdMap": {},
       "diffDeletes": [],
       "diffInserts": [],
       "displayType": "redashChart",
       "error": null,
       "errorDetails": null,
       "errorSummary": null,
       "errorTraceType": null,
       "finishTime": 0,
       "globalVars": {},
       "guid": "",
       "height": "auto",
       "hideCommandCode": false,
       "hideCommandResult": false,
       "iPythonMetadata": null,
       "inputWidgets": {},
       "isLockedInExamMode": false,
       "latestAssumeRoleInfo": null,
       "latestUser": "a user",
       "latestUserId": null,
       "listResultMetadata": null,
       "metadata": {},
       "nuid": "68014497-b3c7-415a-b4f8-ca38c470566a",
       "origId": 0,
       "parentHierarchy": [],
       "pivotAggregation": null,
       "pivotColumns": null,
       "position": 3,
       "resultDbfsErrorMessage": null,
       "resultDbfsStatus": "INLINED_IN_TREE",
       "results": null,
       "showCommandTitle": false,
       "startTime": 0,
       "state": "input",
       "streamStates": {},
       "subcommandOptions": {
        "queryPlan": {
         "groups": [
          {
           "column": "week",
           "type": "column"
          },
          {
           "column": "topic",
           "type": "column"
          }
         ],
         "selects": [
          {
           "column": "week",
           "type": "column"
          },
          {
           "column": "topic",
           "type": "column"
          },
          {
           "alias": "column_4983c18335",
           "args": [
            {
             "column": "first_response_sla_violation",
             "type": "column"
            }
           ],
           "function": "SUM",
           "type": "function"
          }
         ]
        }
       },
       "submitTime": 0,
       "subtype": "tableResultSubCmd.visualization",
       "tableResultIndex": 0,
       "tableResultSettingsMap": {},
       "useConsistentColors": false,
       "version": "CommandV1",
       "width": "auto",
       "workflows": [],
       "xColumns": null,
       "yColumns": null
      }
     },
     "output_type": "display_data"
    }
   ],
   "source": [
    "select date_trunc('week', `Created time`) as week, \n",
    "topic,\n",
    "count(1) as first_response_sla_violation\n",
    "\n",
    "from main.samples.technical_support_dataset\n",
    "where `SLA For first response` = 'SLA Violated'\n",
    "group by 1, 2"
   ]
  },
  {
   "cell_type": "code",
   "execution_count": 0,
   "metadata": {
    "application/vnd.databricks.v1+cell": {
     "cellMetadata": {},
     "inputWidgets": {},
     "nuid": "7993e203-6ae8-4138-a694-8c41006dc799",
     "showTitle": false,
     "tableResultSettingsMap": {},
     "title": ""
    }
   },
   "outputs": [],
   "source": [
    "-- github is my favourite platform in the world and i love when it works with databricks!!!"
   ]
  },
  {
   "cell_type": "code",
   "execution_count": null,
   "metadata": {},
   "outputs": [],
   "source": [
    "-- i want to add a bunch of comments here adn sanity check that databricks workspadce doesn't recognize the "
   ]
  },
  {
   "cell_type": "code",
   "execution_count": null,
   "metadata": {},
   "outputs": [],
   "source": [
    "--testtesttest"
   ]
  }
 ],
 "metadata": {
  "application/vnd.databricks.v1+notebook": {
   "computePreferences": null,
   "dashboards": [],
   "environmentMetadata": {
    "base_environment": "",
    "environment_version": "2"
   },
   "inputWidgetPreferences": null,
   "language": "sql",
   "notebookMetadata": {
    "pythonIndentUnit": 2
   },
   "notebookName": "SLA violation deepdive",
   "widgets": {}
  },
  "language_info": {
   "name": "sql"
  }
 },
 "nbformat": 4,
 "nbformat_minor": 0
}
